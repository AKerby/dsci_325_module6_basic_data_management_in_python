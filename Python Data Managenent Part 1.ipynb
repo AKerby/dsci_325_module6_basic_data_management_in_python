{
  "cells": [
    {
      "cell_type": "markdown",
      "metadata": {
        "id": "view-in-github",
        "colab_type": "text"
      },
      "source": [
        "<a href=\"https://colab.research.google.com/github/AKerby/dsci_325_module6_basic_data_management_in_python/blob/main/Python%20Data%20Managenent%20Part%201.ipynb\" target=\"_parent\"><img src=\"https://colab.research.google.com/assets/colab-badge.svg\" alt=\"Open In Colab\"/></a>"
      ]
    },
    {
      "cell_type": "markdown",
      "id": "2d129329",
      "metadata": {
        "id": "2d129329"
      },
      "source": [
        "## Colab Prep\n",
        "\n",
        "Execute the following code cells to whenever you open/restart the notebook in Google Colab."
      ]
    },
    {
      "cell_type": "code",
      "execution_count": null,
      "id": "d188a811",
      "metadata": {
        "scrolled": true,
        "id": "d188a811"
      },
      "outputs": [],
      "source": [
        "!wget https://github.com/WSU-DataScience/dsci_325_module6_basic_data_management_in_python/raw/main/sample_data.zip"
      ]
    },
    {
      "cell_type": "code",
      "execution_count": null,
      "id": "311d5379",
      "metadata": {
        "id": "311d5379"
      },
      "outputs": [],
      "source": [
        "!unzip ./sample_data.zip"
      ]
    },
    {
      "cell_type": "markdown",
      "id": "d7eb6615",
      "metadata": {
        "id": "d7eb6615"
      },
      "source": [
        "# Module 6.1 - Reading Data in `polars`"
      ]
    },
    {
      "cell_type": "markdown",
      "id": "e837c555",
      "metadata": {
        "id": "e837c555"
      },
      "source": [
        "## Dataframes in Python\n",
        "\n",
        "Here a summary of some of the important the data management libraries in Python.\n",
        "\n",
        "* `pandas` was the first (and still most popular) data frame library.  It was based on `R` data frames, but is starting to show its age.\n",
        "* `polars` is a new library similar to `pandas`, but has new features that make it easier to work with and more efficient for large data and multi-core machines.\n",
        "* `pyspark` is used for managing very large data on a distributed network of machines.\n",
        "* `koalas` is an interface to `pyspark` that based on the `pandas` interface.\n",
        "\n",
        "**Note.** We will be primarily focusing on `polars`, but will occasionally need to convert to `pandas` to work with other libraries."
      ]
    },
    {
      "cell_type": "markdown",
      "id": "75dedaaa",
      "metadata": {
        "id": "75dedaaa"
      },
      "source": [
        "## Polars provides Python next-generation data frames\n",
        "\n",
        "* **Expressive.** Queries are familiar, readable, and combosable.\n",
        "* **Parallel.** Can use all cores/threads\n",
        "* **Fast.** [Fastest] in-memory data frames\n",
        "* **Lazy.** Allows lazy evaluation for\n",
        "    * Efficient memory usage\n",
        "    * Query optimization\n",
        "    * Filter pushdown\n",
        "* **Eager.** Allows eager evaluation for convenience on small data sets."
      ]
    },
    {
      "cell_type": "code",
      "execution_count": 1,
      "id": "604503d3",
      "metadata": {
        "id": "604503d3"
      },
      "outputs": [],
      "source": [
        "import polars as pl"
      ]
    },
    {
      "cell_type": "markdown",
      "id": "7578a0b7",
      "metadata": {
        "id": "7578a0b7"
      },
      "source": [
        "## Our first dataframe"
      ]
    },
    {
      "cell_type": "code",
      "execution_count": null,
      "id": "a06eb83a",
      "metadata": {
        "scrolled": true,
        "id": "a06eb83a"
      },
      "outputs": [],
      "source": [
        "df = pl.DataFrame({\"Names\": [\"Iverson\", \"Malone\", \"Bergen\"],\n",
        "                   \"Python_mastery\": [10, 5, 1.0],\n",
        "                   \"Love_of_R\": [2, 5, 11],\n",
        "                   \"years_at_wsu\": [4, 17, 5]})\n",
        "df.head()"
      ]
    },
    {
      "cell_type": "markdown",
      "id": "c387ad88",
      "metadata": {
        "id": "c387ad88"
      },
      "source": [
        "## Reading from a data file\n",
        "\n",
        "* Most data sets will be read in from a csv or JSON data file\n",
        "* `Polars` provides `read_csv` and `read_json`"
      ]
    },
    {
      "cell_type": "markdown",
      "id": "1e4a58eb",
      "metadata": {
        "id": "1e4a58eb"
      },
      "source": [
        "### Open a CSV file from a local file w/ relative path"
      ]
    },
    {
      "cell_type": "code",
      "execution_count": null,
      "id": "23873858",
      "metadata": {
        "id": "23873858"
      },
      "outputs": [],
      "source": [
        "artists = pl.read_csv('./sample_data/Artists.csv')\n",
        "artists.head()"
      ]
    },
    {
      "cell_type": "markdown",
      "id": "1d5673cc",
      "metadata": {
        "id": "1d5673cc"
      },
      "source": [
        "### Open a CSV using a web address"
      ]
    },
    {
      "cell_type": "code",
      "execution_count": 2,
      "id": "41bfb5f9",
      "metadata": {
        "id": "41bfb5f9",
        "colab": {
          "base_uri": "https://localhost:8080/",
          "height": 255
        },
        "outputId": "8b7e2034-274c-403c-8872-035997f65b2f"
      },
      "outputs": [
        {
          "output_type": "execute_result",
          "data": {
            "text/plain": [
              "shape: (5, 9)\n",
              "┌────────────┬────────────┬───────────┬───────────┬───┬───────────┬─────────┬──────────┬───────────┐\n",
              "│ Constituen ┆ DisplayNam ┆ ArtistBio ┆ Nationali ┆ … ┆ BeginDate ┆ EndDate ┆ Wiki QID ┆ ULAN      │\n",
              "│ tID        ┆ e          ┆ ---       ┆ ty        ┆   ┆ ---       ┆ ---     ┆ ---      ┆ ---       │\n",
              "│ ---        ┆ ---        ┆ str       ┆ ---       ┆   ┆ i64       ┆ i64     ┆ str      ┆ i64       │\n",
              "│ i64        ┆ str        ┆           ┆ str       ┆   ┆           ┆         ┆          ┆           │\n",
              "╞════════════╪════════════╪═══════════╪═══════════╪═══╪═══════════╪═════════╪══════════╪═══════════╡\n",
              "│ 1          ┆ Robert     ┆ American, ┆ American  ┆ … ┆ 1930      ┆ 1992    ┆ null     ┆ null      │\n",
              "│            ┆ Arneson    ┆ 1930–1992 ┆           ┆   ┆           ┆         ┆          ┆           │\n",
              "│ 2          ┆ Doroteo    ┆ Spanish,  ┆ Spanish   ┆ … ┆ 1936      ┆ 0       ┆ null     ┆ null      │\n",
              "│            ┆ Arnaiz     ┆ born 1936 ┆           ┆   ┆           ┆         ┆          ┆           │\n",
              "│ 3          ┆ Bill       ┆ American, ┆ American  ┆ … ┆ 1941      ┆ 0       ┆ null     ┆ null      │\n",
              "│            ┆ Arnold     ┆ born 1941 ┆           ┆   ┆           ┆         ┆          ┆           │\n",
              "│ 4          ┆ Charles    ┆ American, ┆ American  ┆ … ┆ 1946      ┆ 0       ┆ Q1063584 ┆ 500027998 │\n",
              "│            ┆ Arnoldi    ┆ born 1946 ┆           ┆   ┆           ┆         ┆          ┆           │\n",
              "│ 5          ┆ Per        ┆ Danish,   ┆ Danish    ┆ … ┆ 1941      ┆ 0       ┆ null     ┆ null      │\n",
              "│            ┆ Arnoldi    ┆ born 1941 ┆           ┆   ┆           ┆         ┆          ┆           │\n",
              "└────────────┴────────────┴───────────┴───────────┴───┴───────────┴─────────┴──────────┴───────────┘"
            ],
            "text/html": [
              "<div><style>\n",
              ".dataframe > thead > tr,\n",
              ".dataframe > tbody > tr {\n",
              "  text-align: right;\n",
              "  white-space: pre-wrap;\n",
              "}\n",
              "</style>\n",
              "<small>shape: (5, 9)</small><table border=\"1\" class=\"dataframe\"><thead><tr><th>ConstituentID</th><th>DisplayName</th><th>ArtistBio</th><th>Nationality</th><th>Gender</th><th>BeginDate</th><th>EndDate</th><th>Wiki QID</th><th>ULAN</th></tr><tr><td>i64</td><td>str</td><td>str</td><td>str</td><td>str</td><td>i64</td><td>i64</td><td>str</td><td>i64</td></tr></thead><tbody><tr><td>1</td><td>&quot;Robert Arneson…</td><td>&quot;American, 1930…</td><td>&quot;American&quot;</td><td>&quot;male&quot;</td><td>1930</td><td>1992</td><td>null</td><td>null</td></tr><tr><td>2</td><td>&quot;Doroteo Arnaiz…</td><td>&quot;Spanish, born …</td><td>&quot;Spanish&quot;</td><td>&quot;male&quot;</td><td>1936</td><td>0</td><td>null</td><td>null</td></tr><tr><td>3</td><td>&quot;Bill Arnold&quot;</td><td>&quot;American, born…</td><td>&quot;American&quot;</td><td>&quot;male&quot;</td><td>1941</td><td>0</td><td>null</td><td>null</td></tr><tr><td>4</td><td>&quot;Charles Arnold…</td><td>&quot;American, born…</td><td>&quot;American&quot;</td><td>&quot;male&quot;</td><td>1946</td><td>0</td><td>&quot;Q1063584&quot;</td><td>500027998</td></tr><tr><td>5</td><td>&quot;Per Arnoldi&quot;</td><td>&quot;Danish, born 1…</td><td>&quot;Danish&quot;</td><td>&quot;male&quot;</td><td>1941</td><td>0</td><td>null</td><td>null</td></tr></tbody></table></div>"
            ]
          },
          "metadata": {},
          "execution_count": 2
        }
      ],
      "source": [
        "url = \"https://github.com/MuseumofModernArt/collection/raw/main/Artists.csv\"\n",
        "artists =  pl.read_csv(url)\n",
        "artists.head()"
      ]
    },
    {
      "cell_type": "markdown",
      "id": "947af7e6",
      "metadata": {
        "id": "947af7e6"
      },
      "source": [
        "### What is a JSON data file?\n",
        "\n",
        "* Another (more modern) storage\n",
        "* Here the data is stored in row `dict`\n",
        "\n",
        "```{json}\n",
        "[\n",
        "{\n",
        "  \"ConstituentID\": 1,\n",
        "  \"DisplayName\": \"Robert Arneson\",\n",
        "  \"ArtistBio\": \"American, 1930–1992\",\n",
        "  \"Nationality\": \"American\",\n",
        "  \"Gender\": \"Male\",\n",
        "  \"BeginDate\": 1930,\n",
        "  \"EndDate\": 1992,\n",
        "  \"Wiki QID\": null,\n",
        "  \"ULAN\": null\n",
        "},\n",
        "{\n",
        "  \"ConstituentID\": 2,\n",
        "  \"DisplayName\": \"Doroteo Arnaiz\",\n",
        "  \"ArtistBio\": \"Spanish, born 1936\",\n",
        "  \"Nationality\": \"Spanish\",\n",
        "  \"Gender\": \"Male\",\n",
        "  \"BeginDate\": 1936,\n",
        "  \"EndDate\": 0,\n",
        "  \"Wiki QID\": null,\n",
        "  \"ULAN\": null\n",
        "},\n",
        "...\n",
        "```"
      ]
    },
    {
      "cell_type": "markdown",
      "id": "23182c50",
      "metadata": {
        "id": "23182c50"
      },
      "source": [
        "### `polars` can read `json` data"
      ]
    },
    {
      "cell_type": "code",
      "execution_count": null,
      "id": "58dc6f2b",
      "metadata": {
        "id": "58dc6f2b"
      },
      "outputs": [],
      "source": [
        "artists =  pl.read_json('./sample_data/Artists.json')\n",
        "artists.head()"
      ]
    },
    {
      "cell_type": "markdown",
      "id": "08b3c0cb",
      "metadata": {
        "id": "08b3c0cb"
      },
      "source": [
        "## <font color=\"red\"> Exercise 6.1.1 </font>\n",
        "    \n",
        "Use tab-completion and `help` to discover and explore two more methods of reading a file into a `Polars` dataframe.\n"
      ]
    },
    {
      "cell_type": "code",
      "execution_count": null,
      "id": "586d3b92",
      "metadata": {
        "id": "586d3b92"
      },
      "outputs": [],
      "source": [
        "pl.read_ #<-- Tab here"
      ]
    },
    {
      "cell_type": "code",
      "source": [],
      "metadata": {
        "id": "quf3a6_uyRAS"
      },
      "id": "quf3a6_uyRAS",
      "execution_count": null,
      "outputs": []
    },
    {
      "cell_type": "markdown",
      "id": "8399f3ff",
      "metadata": {
        "id": "8399f3ff"
      },
      "source": [
        "> Discuss what you found here"
      ]
    },
    {
      "cell_type": "markdown",
      "id": "f5a099db",
      "metadata": {
        "id": "f5a099db"
      },
      "source": [
        "## <font color=\"red\"> Exercise 6.1.2 </font>\n",
        "    \n",
        "Read in the `./sample_data/Artwork.csv` from [https://github.com/MuseumofModernArt/collection](https://github.com/MuseumofModernArt/collection) and display the head of the resulting dataframe.  The url method will probably work the best for reading in the data.\n"
      ]
    },
    {
      "cell_type": "code",
      "execution_count": null,
      "id": "c2dcbcf4",
      "metadata": {
        "id": "c2dcbcf4"
      },
      "outputs": [],
      "source": [
        "# Your code here"
      ]
    },
    {
      "cell_type": "markdown",
      "id": "02df7b0d",
      "metadata": {
        "id": "02df7b0d"
      },
      "source": [
        "## Working with other character encodings\n",
        "\n",
        "Data stored in a text file\n",
        "\n",
        "* Is encoding using some [character encoding](https://en.wikipedia.org/wiki/Character_encoding) and\n",
        "* Is commonly stored using [UTF-8](https://en.wikipedia.org/wiki/UTF-8), but\n",
        "* Needs to be read and converted when using another encoding."
      ]
    },
    {
      "cell_type": "markdown",
      "id": "1f96ee60",
      "metadata": {
        "id": "1f96ee60"
      },
      "source": [
        "### Example - MoMA exhibitions\n",
        "\n",
        "An example of a data set that is stored with a non-standard encoding is the `./sample_data/MoMAExhibitions1929to1989.csv` provided by the [Museam of Modern Art (MoMA)](https://github.com/MuseumofModernArt/collection)."
      ]
    },
    {
      "cell_type": "markdown",
      "id": "4b25c9f3",
      "metadata": {
        "id": "4b25c9f3"
      },
      "source": [
        "### The exhibition file gives encoding errors by default\n",
        "\n",
        "When trying to read this file, we get an error about the encoding."
      ]
    },
    {
      "cell_type": "code",
      "execution_count": null,
      "id": "1f0fbfc6",
      "metadata": {
        "scrolled": true,
        "id": "1f0fbfc6"
      },
      "outputs": [],
      "source": [
        "exhibitions = pl.read_csv('./sample_data/MoMAExhibitions1929to1989.csv')"
      ]
    },
    {
      "cell_type": "markdown",
      "id": "91eb9919",
      "metadata": {
        "id": "91eb9919"
      },
      "source": [
        "## Switching encodings fixes the problem\n",
        "\n",
        "* This file uses ISO-8859-1 encoding, see [this Stack Overflow question](https://stackoverflow.com/questions/18171739/unicodedecodeerror-when-reading-csv-file-in-pandas-with-python)\n",
        "* More details on [ISO-8859-1](https://en.wikipedia.org/wiki/ISO/IEC_8859-1)\n",
        "* How to read non-utf8 encodings\n",
        "    * Use Python's tools (`with` statement and `open`) to read the file.\n",
        "    * Encode as `utf-8` and pass to `polars`"
      ]
    },
    {
      "cell_type": "code",
      "execution_count": null,
      "id": "e678ca73",
      "metadata": {
        "scrolled": false,
        "id": "e678ca73"
      },
      "outputs": [],
      "source": [
        "with open('./sample_data/MoMAExhibitions1929to1989.csv', 'r', encoding='ISO-8859-1') as fh:\n",
        "    converted_file = fh.read().encode('utf-8')\n",
        "    exhibitions = pl.read_csv(converted_file,\n",
        "                              ignore_errors=True,\n",
        "                              parse_dates=True)\n",
        "\n",
        "exhibitions.head(2)"
      ]
    },
    {
      "cell_type": "markdown",
      "id": "a8ef481e",
      "metadata": {
        "id": "a8ef481e"
      },
      "source": [
        "## So what is a `DateFrame`\n",
        "\n",
        "* Like R, `polars` focuses on columns\n",
        "* Think `dict` of `(str, Series)` pairs\n",
        "* A series is a typed list-like structure"
      ]
    },
    {
      "cell_type": "code",
      "execution_count": null,
      "id": "fa979561",
      "metadata": {
        "scrolled": true,
        "id": "fa979561"
      },
      "outputs": [],
      "source": [
        "# This is how I imagine a dataframe\n",
        "df = pl.DataFrame({\"Names\": [\"Iverson\", \"Malone\", \"Bergen\"],\n",
        "                   \"Python_mastery\": [10, 5, 1.0],\n",
        "                   \"years_at_wsu\": [4.5, 17.5, 5.5]})"
      ]
    },
    {
      "cell_type": "code",
      "execution_count": null,
      "id": "e910e23c",
      "metadata": {
        "id": "e910e23c"
      },
      "outputs": [],
      "source": [
        "type(df)"
      ]
    },
    {
      "cell_type": "code",
      "execution_count": null,
      "id": "13aa3961",
      "metadata": {
        "id": "13aa3961"
      },
      "outputs": [],
      "source": [
        "df"
      ]
    },
    {
      "cell_type": "markdown",
      "id": "5728677a",
      "metadata": {
        "id": "5728677a"
      },
      "source": [
        "## Two ways to access a column\n",
        "\n",
        "* **Method 1:** Actual data series\n",
        "    * `df[\"column_name\"]`\n",
        "* **Method 2:** lazy column expression used in other context\n",
        "    * `pl.col('column_name')`\n",
        "    * Only for proper names!"
      ]
    },
    {
      "cell_type": "code",
      "execution_count": null,
      "id": "b6bba0d7",
      "metadata": {
        "id": "b6bba0d7"
      },
      "outputs": [],
      "source": [
        "artists['BeginDate'].head(2)"
      ]
    },
    {
      "cell_type": "code",
      "execution_count": null,
      "id": "c01758a9",
      "metadata": {
        "id": "c01758a9"
      },
      "outputs": [],
      "source": [
        "pl.col('BeginDate') # Lazy - Nothing (yet)"
      ]
    },
    {
      "cell_type": "markdown",
      "id": "3161dacb",
      "metadata": {
        "id": "3161dacb"
      },
      "source": [
        "## Columns are type `Series` and hold one type of data"
      ]
    },
    {
      "cell_type": "code",
      "execution_count": null,
      "id": "683c8b8a",
      "metadata": {
        "id": "683c8b8a"
      },
      "outputs": [],
      "source": [
        "type(artists['BeginDate'])"
      ]
    },
    {
      "cell_type": "code",
      "execution_count": null,
      "id": "9db944bd",
      "metadata": {
        "id": "9db944bd"
      },
      "outputs": [],
      "source": [
        "type(artists['DisplayName'])"
      ]
    },
    {
      "cell_type": "code",
      "execution_count": null,
      "id": "ce290e3a",
      "metadata": {
        "id": "ce290e3a"
      },
      "outputs": [],
      "source": [
        "artists['BeginDate'].dtype"
      ]
    },
    {
      "cell_type": "code",
      "execution_count": null,
      "id": "26c05383",
      "metadata": {
        "id": "26c05383"
      },
      "outputs": [],
      "source": [
        "artists['DisplayName'].dtype"
      ]
    },
    {
      "cell_type": "markdown",
      "id": "a560e786",
      "metadata": {
        "id": "a560e786"
      },
      "source": [
        "## More on data types\n",
        "\n",
        "* a list of all `polars` data types are available in `pl.datatypes`\n",
        "    * Look for names starting with a capital letter.\n",
        "* Use `df.dtypes` to see the column types in a dataframe named `df`"
      ]
    },
    {
      "cell_type": "markdown",
      "id": "ab7b352b",
      "metadata": {
        "id": "ab7b352b"
      },
      "source": [
        "#### A list of all `polars` data types"
      ]
    },
    {
      "cell_type": "code",
      "execution_count": null,
      "id": "1d9af050",
      "metadata": {
        "id": "1d9af050"
      },
      "outputs": [],
      "source": [
        "[m for m in dir(pl.datatypes) if m.istitle()] # istitle used to filter names starting with a capital letter"
      ]
    },
    {
      "cell_type": "markdown",
      "id": "d487abbd",
      "metadata": {
        "id": "d487abbd"
      },
      "source": [
        "#### Inspecting the data types for a data frame"
      ]
    },
    {
      "cell_type": "code",
      "execution_count": null,
      "id": "bb05165d",
      "metadata": {
        "scrolled": true,
        "id": "bb05165d"
      },
      "outputs": [],
      "source": [
        "artists.dtypes"
      ]
    },
    {
      "cell_type": "markdown",
      "id": "da34f96d",
      "metadata": {
        "id": "da34f96d"
      },
      "source": [
        "## Setting `dtypes` with `read_csv`\n",
        "\n",
        "We can pass a `dict` of types to `dtype` keyword"
      ]
    },
    {
      "cell_type": "code",
      "execution_count": null,
      "id": "39c5e4e5",
      "metadata": {
        "scrolled": true,
        "id": "39c5e4e5"
      },
      "outputs": [],
      "source": [
        "artist_types = {'ConstituentID': pl.Int64,\n",
        "                'DisplayName': pl.Utf8,\n",
        "                'ArtistBio': pl.Utf8,\n",
        "                'Nationality': pl.Utf8,\n",
        "                'Gender':pl.Utf8,\n",
        "                'BeginDate': pl.Int64,\n",
        "                'EndDate': pl.Int64,\n",
        "                'Wiki QID': pl.Utf8,\n",
        "                'ULAN':pl.Int64}\n",
        "\n",
        "artists2 = pl.read_csv('./sample_data/Artists.csv', dtypes = artist_types)\n",
        "artists2.head()"
      ]
    },
    {
      "cell_type": "markdown",
      "id": "81fe7eeb",
      "metadata": {
        "id": "81fe7eeb"
      },
      "source": [
        "## More on `None` and `NaN`\n",
        "\n",
        "`polars` has two types of missing data.\n",
        "\n",
        "* `None`/`null` is a missing value.\n",
        "* `NaN` represents the result of an undefined operation\n",
        "* `NaN` is **not** missing"
      ]
    },
    {
      "cell_type": "code",
      "execution_count": null,
      "id": "582fe8f3",
      "metadata": {
        "id": "582fe8f3"
      },
      "outputs": [],
      "source": [
        "df = pl.DataFrame({'a': [-1, 0 , 1, None],\n",
        "                   'b': [1, 2, None, 4],\n",
        "                   'c': [1, 2, float('nan'), 4]})\n",
        "df"
      ]
    },
    {
      "cell_type": "markdown",
      "id": "9f68a8ae",
      "metadata": {
        "id": "9f68a8ae"
      },
      "source": [
        "### `Nan` are a result of undefined operations\n",
        "\n",
        "Note that computing the square root of a negative number returns `Nan`, not `None`/`null`"
      ]
    },
    {
      "cell_type": "code",
      "execution_count": null,
      "id": "f8f9b393",
      "metadata": {
        "id": "f8f9b393"
      },
      "outputs": [],
      "source": [
        "df_w_sqrt = (df\n",
        "             .select([pl.col('a'),\n",
        "                      pl.col('a').sqrt().alias('sqrt_a'),\n",
        "                     ])\n",
        ")\n",
        "df_w_sqrt"
      ]
    },
    {
      "cell_type": "markdown",
      "id": "6de62f8a",
      "metadata": {
        "id": "6de62f8a"
      },
      "source": [
        "### `Nan`  are not `None`"
      ]
    },
    {
      "cell_type": "code",
      "execution_count": null,
      "id": "7d32b425",
      "metadata": {
        "id": "7d32b425"
      },
      "outputs": [],
      "source": [
        "(df_w_sqrt\n",
        " .select([\n",
        "          pl.col('sqrt_a'),\n",
        "          pl.col('sqrt_a').is_null().alias('Is null'),\n",
        "          pl.col('sqrt_a').is_nan().alias('Is nan'),\n",
        "             ])\n",
        ")"
      ]
    },
    {
      "cell_type": "markdown",
      "id": "ebcd6c7b",
      "metadata": {
        "id": "ebcd6c7b"
      },
      "source": [
        "### `NaN` and `None` affect aggregation differently.\n",
        "\n",
        "We will discuss the effects of these values on aggregation in a future lecture."
      ]
    },
    {
      "cell_type": "markdown",
      "id": "b699f3a0",
      "metadata": {
        "id": "b699f3a0"
      },
      "source": [
        "## Getting to know your data\n",
        "\n",
        "To get to know your data, use the following data frame methods.\n",
        "\n",
        "* `df.head()`        first five rows\n",
        "* `df.tail()`        last five rows\n",
        "* `df.sample(5)`     random sample of rows\n",
        "* `df.shape`         number of rows/columns in a tuple\n",
        "* `df.describe()`    calculates measures of central tendency"
      ]
    },
    {
      "cell_type": "markdown",
      "id": "4b1704aa",
      "metadata": {
        "id": "4b1704aa"
      },
      "source": [
        "#### Getting the number of rows and columns using `shape`"
      ]
    },
    {
      "cell_type": "code",
      "execution_count": null,
      "id": "8baf37c8",
      "metadata": {
        "id": "8baf37c8"
      },
      "outputs": [],
      "source": [
        "df.shape"
      ]
    },
    {
      "cell_type": "markdown",
      "id": "1e6a340b",
      "metadata": {
        "id": "1e6a340b"
      },
      "source": [
        "#### Getting summary statistics for each column with `describe`"
      ]
    },
    {
      "cell_type": "code",
      "execution_count": null,
      "id": "85d6b504",
      "metadata": {
        "id": "85d6b504"
      },
      "outputs": [],
      "source": [
        "df.describe()"
      ]
    },
    {
      "cell_type": "markdown",
      "id": "eecc468c",
      "metadata": {
        "id": "eecc468c"
      },
      "source": [
        "## <font color=\"red\"> Exercise 6.1.3</font>\n",
        "\n",
        "**Tasks.**\n",
        "\n",
        "* Use various method to inspect the `./sample_data/Artwork.csv` data from MoMA\n",
        "* Write a short summary of what your learn."
      ]
    },
    {
      "cell_type": "code",
      "execution_count": null,
      "id": "f3745498",
      "metadata": {
        "id": "f3745498"
      },
      "outputs": [],
      "source": [
        "# Your code here (open new code cells for each method)"
      ]
    },
    {
      "cell_type": "markdown",
      "id": "2997b478",
      "metadata": {
        "id": "2997b478"
      },
      "source": [
        "> Your thoughts here (open new markdown cells for each method)"
      ]
    }
  ],
  "metadata": {
    "kernelspec": {
      "display_name": "Python 3 (ipykernel)",
      "language": "python",
      "name": "python3"
    },
    "language_info": {
      "codemirror_mode": {
        "name": "ipython",
        "version": 3
      },
      "file_extension": ".py",
      "mimetype": "text/x-python",
      "name": "python",
      "nbconvert_exporter": "python",
      "pygments_lexer": "ipython3",
      "version": "3.9.12"
    },
    "varInspector": {
      "cols": {
        "lenName": 16,
        "lenType": 16,
        "lenVar": 40
      },
      "kernels_config": {
        "python": {
          "delete_cmd_postfix": "",
          "delete_cmd_prefix": "del ",
          "library": "var_list.py",
          "varRefreshCmd": "print(var_dic_list())"
        },
        "r": {
          "delete_cmd_postfix": ") ",
          "delete_cmd_prefix": "rm(",
          "library": "var_list.r",
          "varRefreshCmd": "cat(var_dic_list()) "
        }
      },
      "types_to_exclude": [
        "module",
        "function",
        "builtin_function_or_method",
        "instance",
        "_Feature"
      ],
      "window_display": false
    },
    "colab": {
      "provenance": [],
      "include_colab_link": true
    }
  },
  "nbformat": 4,
  "nbformat_minor": 5
}