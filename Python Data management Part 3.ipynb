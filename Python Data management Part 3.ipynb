{
  "cells": [
    {
      "cell_type": "markdown",
      "metadata": {
        "id": "view-in-github",
        "colab_type": "text"
      },
      "source": [
        "<a href=\"https://colab.research.google.com/github/AKerby/dsci_325_module6_basic_data_management_in_python/blob/main/Python%20Data%20management%20Part%203.ipynb\" target=\"_parent\"><img src=\"https://colab.research.google.com/assets/colab-badge.svg\" alt=\"Open In Colab\"/></a>"
      ]
    },
    {
      "cell_type": "markdown",
      "id": "074ba9f2",
      "metadata": {
        "id": "074ba9f2"
      },
      "source": [
        "## Advanced Applications of Select\n",
        "\n",
        "In this lecture, we will look at techniques for selecting many columns including\n",
        "\n",
        "1. Renaming columns with `rename`,\n",
        "2. Dropping columns with `drop`,\n",
        "3. Using regular expressions to identify columns by pattern,\n",
        "4. Using `exclude` to filter out some columns,\n",
        "5. Some helper functions for standard tasks."
      ]
    },
    {
      "cell_type": "code",
      "execution_count": 17,
      "id": "092f361b",
      "metadata": {
        "id": "092f361b",
        "outputId": "22fb6a15-92d6-42f0-c029-d443c7642810",
        "colab": {
          "base_uri": "https://localhost:8080/"
        }
      },
      "outputs": [
        {
          "output_type": "stream",
          "name": "stdout",
          "text": [
            "Requirement already satisfied: more_polars in /usr/local/lib/python3.10/dist-packages (0.3.0)\n",
            "Requirement already satisfied: composable>=0.5.4 in /usr/local/lib/python3.10/dist-packages (from more_polars) (0.5.4)\n",
            "Requirement already satisfied: polars>=0.14.26 in /usr/local/lib/python3.10/dist-packages (from more_polars) (0.20.2)\n",
            "Requirement already satisfied: python-forge<19.0,>=18.6 in /usr/local/lib/python3.10/dist-packages (from composable>=0.5.4->more_polars) (18.6.0)\n",
            "Requirement already satisfied: toolz<0.12.0,>=0.11.1 in /usr/local/lib/python3.10/dist-packages (from composable>=0.5.4->more_polars) (0.11.2)\n"
          ]
        }
      ],
      "source": [
        "!pip install more_polars --upgrade\n",
        "import polars as pl"
      ]
    },
    {
      "cell_type": "markdown",
      "id": "7919ca19",
      "metadata": {
        "id": "7919ca19"
      },
      "source": [
        "## Outline\n",
        "\n",
        "* `select` helper functions\n",
        "* Basic `filter` format"
      ]
    },
    {
      "cell_type": "markdown",
      "id": "809e4032",
      "metadata": {
        "id": "809e4032"
      },
      "source": [
        "## Example - Health Survey\n",
        "\n",
        "The `health_survey.csv` file contains the responses to a health survey."
      ]
    },
    {
      "cell_type": "code",
      "execution_count": 2,
      "id": "0fc7ebe7",
      "metadata": {
        "id": "0fc7ebe7",
        "outputId": "b38d51a3-25f6-4f5b-8ea8-87408c75f566",
        "colab": {
          "base_uri": "https://localhost:8080/"
        }
      },
      "outputs": [
        {
          "output_type": "execute_result",
          "data": {
            "text/plain": [
              "['',\n",
              " 'F1',\n",
              " 'F5',\n",
              " 'F2',\n",
              " 'F1.1',\n",
              " 'F2.1',\n",
              " 'F6',\n",
              " 'F4',\n",
              " 'F3',\n",
              " 'F5.1',\n",
              " 'F1.2',\n",
              " 'F2.2',\n",
              " 'F6.1',\n",
              " 'F2.3',\n",
              " 'F4.1',\n",
              " 'F2.4',\n",
              " 'F5.2',\n",
              " 'F2.5',\n",
              " 'F6.2',\n",
              " 'F1.3',\n",
              " 'F2.6',\n",
              " 'F5.3',\n",
              " 'F4.2',\n",
              " 'F2.7',\n",
              " 'F3.1',\n",
              " 'F2.8',\n",
              " 'F5.4',\n",
              " 'F3.2',\n",
              " 'F1.4',\n",
              " 'F3.3',\n",
              " 'F1.5',\n",
              " 'F5.5',\n",
              " 'F6.3',\n",
              " 'F1.6',\n",
              " 'F5.6',\n",
              " 'F2.9',\n",
              " 'F3.4',\n",
              " 'F4.3',\n",
              " 'F2.10',\n",
              " 'F1.7',\n",
              " 'F6.4',\n",
              " 'F4.4',\n",
              " 'F5.7',\n",
              " 'F3.5',\n",
              " 'F2.11']"
            ]
          },
          "metadata": {},
          "execution_count": 2
        }
      ],
      "source": [
        "url = \"https://github.com/AKerby/dsci_325_module6_basic_data_management_in_python/raw/main/sample_data/health_survey.csv\"\n",
        "survey_raw = pl.read_csv(url)\n",
        "survey_raw.columns"
      ]
    },
    {
      "cell_type": "markdown",
      "id": "dc8ae8f5",
      "metadata": {
        "id": "dc8ae8f5"
      },
      "source": [
        "## Renaming columns\n",
        "\n",
        "* The first column was named `''` and needs to be fixed.\n",
        "* Use `rename` method to rename one or more columns.\n",
        "* Use a `dict` of pair, i.e. `{'old_name_1':'new_name_1', ...}`"
      ]
    },
    {
      "cell_type": "code",
      "execution_count": 3,
      "id": "11f25b3a",
      "metadata": {
        "id": "11f25b3a",
        "outputId": "8377e40a-bcd5-48f1-a0c1-02339f1b47fc",
        "colab": {
          "base_uri": "https://localhost:8080/",
          "height": 362
        }
      },
      "outputs": [
        {
          "output_type": "execute_result",
          "data": {
            "text/plain": [
              "shape: (5, 45)\n",
              "┌─────┬────────────┬────────────┬────────────┬───┬────────────┬────────────┬───────────┬───────────┐\n",
              "│ ID  ┆ F1         ┆ F5         ┆ F2         ┆ … ┆ F4.4       ┆ F5.7       ┆ F3.5      ┆ F2.11     │\n",
              "│ --- ┆ ---        ┆ ---        ┆ ---        ┆   ┆ ---        ┆ ---        ┆ ---       ┆ ---       │\n",
              "│ i64 ┆ str        ┆ str        ┆ str        ┆   ┆ str        ┆ str        ┆ str       ┆ str       │\n",
              "╞═════╪════════════╪════════════╪════════════╪═══╪════════════╪════════════╪═══════════╪═══════════╡\n",
              "│ 1   ┆ Somewhat   ┆ Somewhat   ┆ Somewhat   ┆ … ┆ Somewhat   ┆ Somewhat   ┆ Somewhat  ┆ Somewhat  │\n",
              "│     ┆ Agree      ┆ Disagree   ┆ Agree      ┆   ┆ Agree      ┆ Agree      ┆ Agree     ┆ Agree     │\n",
              "│ 2   ┆ Somewhat   ┆ Somewhat   ┆ Somewhat   ┆ … ┆ Neither    ┆ Somewhat   ┆ Neither   ┆ Somewhat  │\n",
              "│     ┆ Agree      ┆ Disagree   ┆ Agree      ┆   ┆ Agree nor  ┆ Agree      ┆ Agree nor ┆ Agree     │\n",
              "│     ┆            ┆            ┆            ┆   ┆ Disagree   ┆            ┆ Disagree  ┆           │\n",
              "│ 3   ┆ Strongly   ┆ Neither    ┆ Somewhat   ┆ … ┆ Somewhat   ┆ Strongly   ┆ Strongly  ┆ Somewhat  │\n",
              "│     ┆ Agree      ┆ Agree nor  ┆ Agree      ┆   ┆ Agree      ┆ Agree      ┆ Disagree  ┆ Agree     │\n",
              "│     ┆            ┆ Disagree   ┆            ┆   ┆            ┆            ┆           ┆           │\n",
              "│ 4   ┆ Somewhat   ┆ Somewhat   ┆ Strongly   ┆ … ┆ Neither    ┆ Somewhat   ┆ Somewhat  ┆ Somewhat  │\n",
              "│     ┆ Agree      ┆ Agree      ┆ Agree      ┆   ┆ Agree nor  ┆ Agree      ┆ Disagree  ┆ Agree     │\n",
              "│     ┆            ┆            ┆            ┆   ┆ Disagree   ┆            ┆           ┆           │\n",
              "│ 5   ┆ Strongly   ┆ Strongly   ┆ Neither    ┆ … ┆ Somewhat   ┆ Strongly   ┆ Somewhat  ┆ Somewhat  │\n",
              "│     ┆ Agree      ┆ Disagree   ┆ Agree nor  ┆   ┆ Agree      ┆ Agree      ┆ Disagree  ┆ Agree     │\n",
              "│     ┆            ┆            ┆ Disagree   ┆   ┆            ┆            ┆           ┆           │\n",
              "└─────┴────────────┴────────────┴────────────┴───┴────────────┴────────────┴───────────┴───────────┘"
            ],
            "text/html": [
              "<div><style>\n",
              ".dataframe > thead > tr,\n",
              ".dataframe > tbody > tr {\n",
              "  text-align: right;\n",
              "  white-space: pre-wrap;\n",
              "}\n",
              "</style>\n",
              "<small>shape: (5, 45)</small><table border=\"1\" class=\"dataframe\"><thead><tr><th>ID</th><th>F1</th><th>F5</th><th>F2</th><th>F1.1</th><th>F2.1</th><th>F6</th><th>F4</th><th>F3</th><th>F5.1</th><th>F1.2</th><th>F2.2</th><th>F6.1</th><th>F2.3</th><th>F4.1</th><th>F2.4</th><th>F5.2</th><th>F2.5</th><th>F6.2</th><th>F1.3</th><th>F2.6</th><th>F5.3</th><th>F4.2</th><th>F2.7</th><th>F3.1</th><th>F2.8</th><th>F5.4</th><th>F3.2</th><th>F1.4</th><th>F3.3</th><th>F1.5</th><th>F5.5</th><th>F6.3</th><th>F1.6</th><th>F5.6</th><th>F2.9</th><th>F3.4</th><th>F4.3</th><th>F2.10</th><th>F1.7</th><th>F6.4</th><th>F4.4</th><th>F5.7</th><th>F3.5</th><th>F2.11</th></tr><tr><td>i64</td><td>str</td><td>str</td><td>str</td><td>str</td><td>str</td><td>str</td><td>str</td><td>str</td><td>str</td><td>str</td><td>str</td><td>str</td><td>str</td><td>str</td><td>str</td><td>str</td><td>str</td><td>str</td><td>str</td><td>str</td><td>str</td><td>str</td><td>str</td><td>str</td><td>str</td><td>str</td><td>str</td><td>str</td><td>str</td><td>str</td><td>str</td><td>str</td><td>str</td><td>str</td><td>str</td><td>str</td><td>str</td><td>str</td><td>str</td><td>str</td><td>str</td><td>str</td><td>str</td><td>str</td></tr></thead><tbody><tr><td>1</td><td>&quot;Somewhat Agree…</td><td>&quot;Somewhat Disag…</td><td>&quot;Somewhat Agree…</td><td>&quot;Somewhat Agree…</td><td>&quot;Somewhat Agree…</td><td>&quot;Somewhat Disag…</td><td>&quot;Somewhat Agree…</td><td>&quot;Somewhat Agree…</td><td>&quot;Somewhat Agree…</td><td>&quot;Somewhat Agree…</td><td>&quot;Somewhat Agree…</td><td>&quot;Somewhat Agree…</td><td>&quot;Somewhat Agree…</td><td>&quot;Somewhat Agree…</td><td>&quot;Somewhat Agree…</td><td>&quot;Somewhat Agree…</td><td>&quot;Somewhat Agree…</td><td>&quot;Somewhat Agree…</td><td>&quot;Somewhat Agree…</td><td>&quot;Somewhat Agree…</td><td>&quot;Somewhat Agree…</td><td>&quot;Somewhat Agree…</td><td>&quot;Somewhat Agree…</td><td>&quot;Somewhat Disag…</td><td>&quot;Somewhat Agree…</td><td>&quot;Somewhat Agree…</td><td>&quot;Somewhat Agree…</td><td>&quot;Neither Agree …</td><td>&quot;Somewhat Agree…</td><td>&quot;Somewhat Agree…</td><td>&quot;Somewhat Disag…</td><td>&quot;Somewhat Disag…</td><td>&quot;Somewhat Agree…</td><td>&quot;Somewhat Agree…</td><td>&quot;Somewhat Agree…</td><td>&quot;Somewhat Disag…</td><td>&quot;Neither Agree …</td><td>&quot;Somewhat Agree…</td><td>&quot;Somewhat Agree…</td><td>&quot;Somewhat Agree…</td><td>&quot;Somewhat Agree…</td><td>&quot;Somewhat Agree…</td><td>&quot;Somewhat Agree…</td><td>&quot;Somewhat Agree…</td></tr><tr><td>2</td><td>&quot;Somewhat Agree…</td><td>&quot;Somewhat Disag…</td><td>&quot;Somewhat Agree…</td><td>&quot;Somewhat Agree…</td><td>&quot;Somewhat Agree…</td><td>&quot;Somewhat Disag…</td><td>&quot;Somewhat Agree…</td><td>&quot;Neither Agree …</td><td>&quot;Neither Agree …</td><td>&quot;Somewhat Agree…</td><td>&quot;Neither Agree …</td><td>&quot;Somewhat Agree…</td><td>&quot;Somewhat Agree…</td><td>&quot;Neither Agree …</td><td>&quot;Somewhat Agree…</td><td>&quot;Somewhat Agree…</td><td>&quot;Somewhat Agree…</td><td>&quot;Somewhat Agree…</td><td>&quot;Somewhat Agree…</td><td>&quot;Somewhat Agree…</td><td>&quot;Somewhat Agree…</td><td>&quot;Somewhat Agree…</td><td>&quot;Somewhat Agree…</td><td>&quot;Neither Agree …</td><td>&quot;Somewhat Agree…</td><td>&quot;Neither Agree …</td><td>&quot;Neither Agree …</td><td>&quot;Somewhat Agree…</td><td>&quot;Neither Agree …</td><td>&quot;Neither Agree …</td><td>&quot;Neither Agree …</td><td>&quot;Somewhat Disag…</td><td>&quot;Somewhat Agree…</td><td>&quot;Somewhat Disag…</td><td>&quot;Somewhat Agree…</td><td>&quot;Somewhat Agree…</td><td>&quot;Neither Agree …</td><td>&quot;Somewhat Agree…</td><td>&quot;Somewhat Agree…</td><td>&quot;Somewhat Disag…</td><td>&quot;Neither Agree …</td><td>&quot;Somewhat Agree…</td><td>&quot;Neither Agree …</td><td>&quot;Somewhat Agree…</td></tr><tr><td>3</td><td>&quot;Strongly Agree…</td><td>&quot;Neither Agree …</td><td>&quot;Somewhat Agree…</td><td>&quot;Strongly Agree…</td><td>&quot;Strongly Agree…</td><td>&quot;Somewhat Disag…</td><td>&quot;Somewhat Agree…</td><td>&quot;Somewhat Agree…</td><td>&quot;Somewhat Agree…</td><td>&quot;Strongly Agree…</td><td>&quot;Somewhat Agree…</td><td>&quot;Neither Agree …</td><td>&quot;Somewhat Agree…</td><td>&quot;Neither Agree …</td><td>&quot;Somewhat Agree…</td><td>&quot;Somewhat Disag…</td><td>&quot;Strongly Agree…</td><td>&quot;Somewhat Agree…</td><td>&quot;Strongly Agree…</td><td>&quot;Somewhat Agree…</td><td>&quot;Somewhat Agree…</td><td>&quot;Somewhat Agree…</td><td>&quot;&quot;</td><td>&quot;Somewhat Disag…</td><td>&quot;Somewhat Agree…</td><td>&quot;Somewhat Agree…</td><td>&quot;Somewhat Agree…</td><td>&quot;Somewhat Disag…</td><td>&quot;Somewhat Agree…</td><td>&quot;Strongly Agree…</td><td>&quot;Somewhat Disag…</td><td>&quot;Somewhat Disag…</td><td>&quot;Strongly Agree…</td><td>&quot;Somewhat Disag…</td><td>&quot;Somewhat Agree…</td><td>&quot;Somewhat Agree…</td><td>&quot;Neither Agree …</td><td>&quot;Somewhat Agree…</td><td>&quot;Somewhat Agree…</td><td>&quot;Somewhat Agree…</td><td>&quot;Somewhat Agree…</td><td>&quot;Strongly Agree…</td><td>&quot;Strongly Disag…</td><td>&quot;Somewhat Agree…</td></tr><tr><td>4</td><td>&quot;Somewhat Agree…</td><td>&quot;Somewhat Agree…</td><td>&quot;Strongly Agree…</td><td>&quot;Somewhat Agree…</td><td>&quot;Strongly Agree…</td><td>&quot;Neither Agree …</td><td>&quot;Neither Agree …</td><td>&quot;Somewhat Disag…</td><td>&quot;Somewhat Agree…</td><td>&quot;Strongly Agree…</td><td>&quot;Strongly Agree…</td><td>&quot;Somewhat Agree…</td><td>&quot;Somewhat Agree…</td><td>&quot;Neither Agree …</td><td>&quot;Strongly Agree…</td><td>&quot;Somewhat Disag…</td><td>&quot;Strongly Agree…</td><td>&quot;Somewhat Agree…</td><td>&quot;Somewhat Agree…</td><td>&quot;Strongly Agree…</td><td>&quot;Somewhat Agree…</td><td>&quot;Somewhat Agree…</td><td>&quot;Somewhat Agree…</td><td>&quot;Somewhat Disag…</td><td>&quot;Somewhat Agree…</td><td>&quot;Somewhat Agree…</td><td>&quot;Somewhat Disag…</td><td>&quot;Neither Agree …</td><td>&quot;Somewhat Disag…</td><td>&quot;Somewhat Agree…</td><td>&quot;Somewhat Disag…</td><td>&quot;Somewhat Agree…</td><td>&quot;Strongly Agree…</td><td>&quot;Somewhat Disag…</td><td>&quot;Somewhat Agree…</td><td>&quot;Somewhat Disag…</td><td>&quot;Somewhat Agree…</td><td>&quot;Somewhat Agree…</td><td>&quot;Neither Agree …</td><td>&quot;Neither Agree …</td><td>&quot;Neither Agree …</td><td>&quot;Somewhat Agree…</td><td>&quot;Somewhat Disag…</td><td>&quot;Somewhat Agree…</td></tr><tr><td>5</td><td>&quot;Strongly Agree…</td><td>&quot;Strongly Disag…</td><td>&quot;Neither Agree …</td><td>&quot;Strongly Agree…</td><td>&quot;Somewhat Agree…</td><td>&quot;Strongly Disag…</td><td>&quot;Strongly Agree…</td><td>&quot;Somewhat Agree…</td><td>&quot;Neither Agree …</td><td>&quot;Strongly Agree…</td><td>&quot;Somewhat Agree…</td><td>&quot;Somewhat Agree…</td><td>&quot;Somewhat Disag…</td><td>&quot;Neither Agree …</td><td>&quot;Somewhat Agree…</td><td>&quot;Strongly Disag…</td><td>&quot;Strongly Agree…</td><td>&quot;Strongly Agree…</td><td>&quot;Strongly Agree…</td><td>&quot;Strongly Agree…</td><td>&quot;Strongly Agree…</td><td>&quot;Somewhat Agree…</td><td>&quot;Somewhat Agree…</td><td>&quot;Somewhat Agree…</td><td>&quot;Somewhat Agree…</td><td>&quot;Neither Agree …</td><td>&quot;Somewhat Agree…</td><td>&quot;Somewhat Agree…</td><td>&quot;Somewhat Agree…</td><td>&quot;Somewhat Agree…</td><td>&quot;Strongly Disag…</td><td>&quot;Neither Agree …</td><td>&quot;Strongly Agree…</td><td>&quot;Strongly Disag…</td><td>&quot;Somewhat Agree…</td><td>&quot;Somewhat Agree…</td><td>&quot;Neither Agree …</td><td>&quot;Somewhat Agree…</td><td>&quot;Somewhat Agree…</td><td>&quot;Somewhat Agree…</td><td>&quot;Somewhat Agree…</td><td>&quot;Strongly Agree…</td><td>&quot;Somewhat Disag…</td><td>&quot;Somewhat Agree…</td></tr></tbody></table></div>"
            ]
          },
          "metadata": {},
          "execution_count": 3
        }
      ],
      "source": [
        "survey = survey_raw.rename({'':'ID'})\n",
        "survey.head()"
      ]
    },
    {
      "cell_type": "markdown",
      "id": "03acfa5d",
      "metadata": {
        "id": "03acfa5d"
      },
      "source": [
        "## Dropping one or more columns with `drop`"
      ]
    },
    {
      "cell_type": "markdown",
      "id": "c49b1d79",
      "metadata": {
        "id": "c49b1d79"
      },
      "source": [
        "#### Drop a single column"
      ]
    },
    {
      "cell_type": "code",
      "execution_count": 4,
      "id": "4f529f59",
      "metadata": {
        "id": "4f529f59",
        "outputId": "5c0ad06e-c446-4224-ba0d-a53f1ad70c42",
        "colab": {
          "base_uri": "https://localhost:8080/",
          "height": 250
        }
      },
      "outputs": [
        {
          "output_type": "execute_result",
          "data": {
            "text/plain": [
              "shape: (2, 44)\n",
              "┌─────┬────────────┬────────────┬────────────┬───┬────────────┬────────────┬───────────┬───────────┐\n",
              "│ ID  ┆ F5         ┆ F2         ┆ F1.1       ┆ … ┆ F4.4       ┆ F5.7       ┆ F3.5      ┆ F2.11     │\n",
              "│ --- ┆ ---        ┆ ---        ┆ ---        ┆   ┆ ---        ┆ ---        ┆ ---       ┆ ---       │\n",
              "│ i64 ┆ str        ┆ str        ┆ str        ┆   ┆ str        ┆ str        ┆ str       ┆ str       │\n",
              "╞═════╪════════════╪════════════╪════════════╪═══╪════════════╪════════════╪═══════════╪═══════════╡\n",
              "│ 1   ┆ Somewhat   ┆ Somewhat   ┆ Somewhat   ┆ … ┆ Somewhat   ┆ Somewhat   ┆ Somewhat  ┆ Somewhat  │\n",
              "│     ┆ Disagree   ┆ Agree      ┆ Agree      ┆   ┆ Agree      ┆ Agree      ┆ Agree     ┆ Agree     │\n",
              "│ 2   ┆ Somewhat   ┆ Somewhat   ┆ Somewhat   ┆ … ┆ Neither    ┆ Somewhat   ┆ Neither   ┆ Somewhat  │\n",
              "│     ┆ Disagree   ┆ Agree      ┆ Agree      ┆   ┆ Agree nor  ┆ Agree      ┆ Agree nor ┆ Agree     │\n",
              "│     ┆            ┆            ┆            ┆   ┆ Disagree   ┆            ┆ Disagree  ┆           │\n",
              "└─────┴────────────┴────────────┴────────────┴───┴────────────┴────────────┴───────────┴───────────┘"
            ],
            "text/html": [
              "<div><style>\n",
              ".dataframe > thead > tr,\n",
              ".dataframe > tbody > tr {\n",
              "  text-align: right;\n",
              "  white-space: pre-wrap;\n",
              "}\n",
              "</style>\n",
              "<small>shape: (2, 44)</small><table border=\"1\" class=\"dataframe\"><thead><tr><th>ID</th><th>F5</th><th>F2</th><th>F1.1</th><th>F2.1</th><th>F6</th><th>F4</th><th>F3</th><th>F5.1</th><th>F1.2</th><th>F2.2</th><th>F6.1</th><th>F2.3</th><th>F4.1</th><th>F2.4</th><th>F5.2</th><th>F2.5</th><th>F6.2</th><th>F1.3</th><th>F2.6</th><th>F5.3</th><th>F4.2</th><th>F2.7</th><th>F3.1</th><th>F2.8</th><th>F5.4</th><th>F3.2</th><th>F1.4</th><th>F3.3</th><th>F1.5</th><th>F5.5</th><th>F6.3</th><th>F1.6</th><th>F5.6</th><th>F2.9</th><th>F3.4</th><th>F4.3</th><th>F2.10</th><th>F1.7</th><th>F6.4</th><th>F4.4</th><th>F5.7</th><th>F3.5</th><th>F2.11</th></tr><tr><td>i64</td><td>str</td><td>str</td><td>str</td><td>str</td><td>str</td><td>str</td><td>str</td><td>str</td><td>str</td><td>str</td><td>str</td><td>str</td><td>str</td><td>str</td><td>str</td><td>str</td><td>str</td><td>str</td><td>str</td><td>str</td><td>str</td><td>str</td><td>str</td><td>str</td><td>str</td><td>str</td><td>str</td><td>str</td><td>str</td><td>str</td><td>str</td><td>str</td><td>str</td><td>str</td><td>str</td><td>str</td><td>str</td><td>str</td><td>str</td><td>str</td><td>str</td><td>str</td><td>str</td></tr></thead><tbody><tr><td>1</td><td>&quot;Somewhat Disag…</td><td>&quot;Somewhat Agree…</td><td>&quot;Somewhat Agree…</td><td>&quot;Somewhat Agree…</td><td>&quot;Somewhat Disag…</td><td>&quot;Somewhat Agree…</td><td>&quot;Somewhat Agree…</td><td>&quot;Somewhat Agree…</td><td>&quot;Somewhat Agree…</td><td>&quot;Somewhat Agree…</td><td>&quot;Somewhat Agree…</td><td>&quot;Somewhat Agree…</td><td>&quot;Somewhat Agree…</td><td>&quot;Somewhat Agree…</td><td>&quot;Somewhat Agree…</td><td>&quot;Somewhat Agree…</td><td>&quot;Somewhat Agree…</td><td>&quot;Somewhat Agree…</td><td>&quot;Somewhat Agree…</td><td>&quot;Somewhat Agree…</td><td>&quot;Somewhat Agree…</td><td>&quot;Somewhat Agree…</td><td>&quot;Somewhat Disag…</td><td>&quot;Somewhat Agree…</td><td>&quot;Somewhat Agree…</td><td>&quot;Somewhat Agree…</td><td>&quot;Neither Agree …</td><td>&quot;Somewhat Agree…</td><td>&quot;Somewhat Agree…</td><td>&quot;Somewhat Disag…</td><td>&quot;Somewhat Disag…</td><td>&quot;Somewhat Agree…</td><td>&quot;Somewhat Agree…</td><td>&quot;Somewhat Agree…</td><td>&quot;Somewhat Disag…</td><td>&quot;Neither Agree …</td><td>&quot;Somewhat Agree…</td><td>&quot;Somewhat Agree…</td><td>&quot;Somewhat Agree…</td><td>&quot;Somewhat Agree…</td><td>&quot;Somewhat Agree…</td><td>&quot;Somewhat Agree…</td><td>&quot;Somewhat Agree…</td></tr><tr><td>2</td><td>&quot;Somewhat Disag…</td><td>&quot;Somewhat Agree…</td><td>&quot;Somewhat Agree…</td><td>&quot;Somewhat Agree…</td><td>&quot;Somewhat Disag…</td><td>&quot;Somewhat Agree…</td><td>&quot;Neither Agree …</td><td>&quot;Neither Agree …</td><td>&quot;Somewhat Agree…</td><td>&quot;Neither Agree …</td><td>&quot;Somewhat Agree…</td><td>&quot;Somewhat Agree…</td><td>&quot;Neither Agree …</td><td>&quot;Somewhat Agree…</td><td>&quot;Somewhat Agree…</td><td>&quot;Somewhat Agree…</td><td>&quot;Somewhat Agree…</td><td>&quot;Somewhat Agree…</td><td>&quot;Somewhat Agree…</td><td>&quot;Somewhat Agree…</td><td>&quot;Somewhat Agree…</td><td>&quot;Somewhat Agree…</td><td>&quot;Neither Agree …</td><td>&quot;Somewhat Agree…</td><td>&quot;Neither Agree …</td><td>&quot;Neither Agree …</td><td>&quot;Somewhat Agree…</td><td>&quot;Neither Agree …</td><td>&quot;Neither Agree …</td><td>&quot;Neither Agree …</td><td>&quot;Somewhat Disag…</td><td>&quot;Somewhat Agree…</td><td>&quot;Somewhat Disag…</td><td>&quot;Somewhat Agree…</td><td>&quot;Somewhat Agree…</td><td>&quot;Neither Agree …</td><td>&quot;Somewhat Agree…</td><td>&quot;Somewhat Agree…</td><td>&quot;Somewhat Disag…</td><td>&quot;Neither Agree …</td><td>&quot;Somewhat Agree…</td><td>&quot;Neither Agree …</td><td>&quot;Somewhat Agree…</td></tr></tbody></table></div>"
            ]
          },
          "metadata": {},
          "execution_count": 4
        }
      ],
      "source": [
        "(survey\n",
        " .drop('F1')\n",
        " .head(2))"
      ]
    },
    {
      "cell_type": "markdown",
      "id": "c8b8ac96",
      "metadata": {
        "id": "c8b8ac96"
      },
      "source": [
        "#### Dropping a list of multiple columns"
      ]
    },
    {
      "cell_type": "code",
      "execution_count": 5,
      "id": "1746eef5",
      "metadata": {
        "scrolled": true,
        "id": "1746eef5",
        "outputId": "5c70329a-3b79-4732-db23-ac8d43827df6",
        "colab": {
          "base_uri": "https://localhost:8080/",
          "height": 250
        }
      },
      "outputs": [
        {
          "output_type": "execute_result",
          "data": {
            "text/plain": [
              "shape: (2, 43)\n",
              "┌─────┬────────────┬────────────┬────────────┬───┬────────────┬────────────┬───────────┬───────────┐\n",
              "│ ID  ┆ F5         ┆ F1.1       ┆ F2.1       ┆ … ┆ F4.4       ┆ F5.7       ┆ F3.5      ┆ F2.11     │\n",
              "│ --- ┆ ---        ┆ ---        ┆ ---        ┆   ┆ ---        ┆ ---        ┆ ---       ┆ ---       │\n",
              "│ i64 ┆ str        ┆ str        ┆ str        ┆   ┆ str        ┆ str        ┆ str       ┆ str       │\n",
              "╞═════╪════════════╪════════════╪════════════╪═══╪════════════╪════════════╪═══════════╪═══════════╡\n",
              "│ 1   ┆ Somewhat   ┆ Somewhat   ┆ Somewhat   ┆ … ┆ Somewhat   ┆ Somewhat   ┆ Somewhat  ┆ Somewhat  │\n",
              "│     ┆ Disagree   ┆ Agree      ┆ Agree      ┆   ┆ Agree      ┆ Agree      ┆ Agree     ┆ Agree     │\n",
              "│ 2   ┆ Somewhat   ┆ Somewhat   ┆ Somewhat   ┆ … ┆ Neither    ┆ Somewhat   ┆ Neither   ┆ Somewhat  │\n",
              "│     ┆ Disagree   ┆ Agree      ┆ Agree      ┆   ┆ Agree nor  ┆ Agree      ┆ Agree nor ┆ Agree     │\n",
              "│     ┆            ┆            ┆            ┆   ┆ Disagree   ┆            ┆ Disagree  ┆           │\n",
              "└─────┴────────────┴────────────┴────────────┴───┴────────────┴────────────┴───────────┴───────────┘"
            ],
            "text/html": [
              "<div><style>\n",
              ".dataframe > thead > tr,\n",
              ".dataframe > tbody > tr {\n",
              "  text-align: right;\n",
              "  white-space: pre-wrap;\n",
              "}\n",
              "</style>\n",
              "<small>shape: (2, 43)</small><table border=\"1\" class=\"dataframe\"><thead><tr><th>ID</th><th>F5</th><th>F1.1</th><th>F2.1</th><th>F6</th><th>F4</th><th>F3</th><th>F5.1</th><th>F1.2</th><th>F2.2</th><th>F6.1</th><th>F2.3</th><th>F4.1</th><th>F2.4</th><th>F5.2</th><th>F2.5</th><th>F6.2</th><th>F1.3</th><th>F2.6</th><th>F5.3</th><th>F4.2</th><th>F2.7</th><th>F3.1</th><th>F2.8</th><th>F5.4</th><th>F3.2</th><th>F1.4</th><th>F3.3</th><th>F1.5</th><th>F5.5</th><th>F6.3</th><th>F1.6</th><th>F5.6</th><th>F2.9</th><th>F3.4</th><th>F4.3</th><th>F2.10</th><th>F1.7</th><th>F6.4</th><th>F4.4</th><th>F5.7</th><th>F3.5</th><th>F2.11</th></tr><tr><td>i64</td><td>str</td><td>str</td><td>str</td><td>str</td><td>str</td><td>str</td><td>str</td><td>str</td><td>str</td><td>str</td><td>str</td><td>str</td><td>str</td><td>str</td><td>str</td><td>str</td><td>str</td><td>str</td><td>str</td><td>str</td><td>str</td><td>str</td><td>str</td><td>str</td><td>str</td><td>str</td><td>str</td><td>str</td><td>str</td><td>str</td><td>str</td><td>str</td><td>str</td><td>str</td><td>str</td><td>str</td><td>str</td><td>str</td><td>str</td><td>str</td><td>str</td><td>str</td></tr></thead><tbody><tr><td>1</td><td>&quot;Somewhat Disag…</td><td>&quot;Somewhat Agree…</td><td>&quot;Somewhat Agree…</td><td>&quot;Somewhat Disag…</td><td>&quot;Somewhat Agree…</td><td>&quot;Somewhat Agree…</td><td>&quot;Somewhat Agree…</td><td>&quot;Somewhat Agree…</td><td>&quot;Somewhat Agree…</td><td>&quot;Somewhat Agree…</td><td>&quot;Somewhat Agree…</td><td>&quot;Somewhat Agree…</td><td>&quot;Somewhat Agree…</td><td>&quot;Somewhat Agree…</td><td>&quot;Somewhat Agree…</td><td>&quot;Somewhat Agree…</td><td>&quot;Somewhat Agree…</td><td>&quot;Somewhat Agree…</td><td>&quot;Somewhat Agree…</td><td>&quot;Somewhat Agree…</td><td>&quot;Somewhat Agree…</td><td>&quot;Somewhat Disag…</td><td>&quot;Somewhat Agree…</td><td>&quot;Somewhat Agree…</td><td>&quot;Somewhat Agree…</td><td>&quot;Neither Agree …</td><td>&quot;Somewhat Agree…</td><td>&quot;Somewhat Agree…</td><td>&quot;Somewhat Disag…</td><td>&quot;Somewhat Disag…</td><td>&quot;Somewhat Agree…</td><td>&quot;Somewhat Agree…</td><td>&quot;Somewhat Agree…</td><td>&quot;Somewhat Disag…</td><td>&quot;Neither Agree …</td><td>&quot;Somewhat Agree…</td><td>&quot;Somewhat Agree…</td><td>&quot;Somewhat Agree…</td><td>&quot;Somewhat Agree…</td><td>&quot;Somewhat Agree…</td><td>&quot;Somewhat Agree…</td><td>&quot;Somewhat Agree…</td></tr><tr><td>2</td><td>&quot;Somewhat Disag…</td><td>&quot;Somewhat Agree…</td><td>&quot;Somewhat Agree…</td><td>&quot;Somewhat Disag…</td><td>&quot;Somewhat Agree…</td><td>&quot;Neither Agree …</td><td>&quot;Neither Agree …</td><td>&quot;Somewhat Agree…</td><td>&quot;Neither Agree …</td><td>&quot;Somewhat Agree…</td><td>&quot;Somewhat Agree…</td><td>&quot;Neither Agree …</td><td>&quot;Somewhat Agree…</td><td>&quot;Somewhat Agree…</td><td>&quot;Somewhat Agree…</td><td>&quot;Somewhat Agree…</td><td>&quot;Somewhat Agree…</td><td>&quot;Somewhat Agree…</td><td>&quot;Somewhat Agree…</td><td>&quot;Somewhat Agree…</td><td>&quot;Somewhat Agree…</td><td>&quot;Neither Agree …</td><td>&quot;Somewhat Agree…</td><td>&quot;Neither Agree …</td><td>&quot;Neither Agree …</td><td>&quot;Somewhat Agree…</td><td>&quot;Neither Agree …</td><td>&quot;Neither Agree …</td><td>&quot;Neither Agree …</td><td>&quot;Somewhat Disag…</td><td>&quot;Somewhat Agree…</td><td>&quot;Somewhat Disag…</td><td>&quot;Somewhat Agree…</td><td>&quot;Somewhat Agree…</td><td>&quot;Neither Agree …</td><td>&quot;Somewhat Agree…</td><td>&quot;Somewhat Agree…</td><td>&quot;Somewhat Disag…</td><td>&quot;Neither Agree …</td><td>&quot;Somewhat Agree…</td><td>&quot;Neither Agree …</td><td>&quot;Somewhat Agree…</td></tr></tbody></table></div>"
            ]
          },
          "metadata": {},
          "execution_count": 5
        }
      ],
      "source": [
        "(survey\n",
        " .drop(['F1', 'F2'])\n",
        " .head(2))"
      ]
    },
    {
      "cell_type": "markdown",
      "id": "4783dbbd",
      "metadata": {
        "id": "4783dbbd"
      },
      "source": [
        "## `select` by column `dtype`"
      ]
    },
    {
      "cell_type": "code",
      "execution_count": 6,
      "id": "0f12f886",
      "metadata": {
        "id": "0f12f886",
        "outputId": "0c26a4c1-0030-4c6a-db4e-a2f10e96f1b5",
        "colab": {
          "base_uri": "https://localhost:8080/",
          "height": 250
        }
      },
      "outputs": [
        {
          "output_type": "execute_result",
          "data": {
            "text/plain": [
              "shape: (2, 44)\n",
              "┌───────────┬───────────┬───────────┬───────────┬───┬───────────┬───────────┬───────────┬──────────┐\n",
              "│ F1        ┆ F5        ┆ F2        ┆ F1.1      ┆ … ┆ F4.4      ┆ F5.7      ┆ F3.5      ┆ F2.11    │\n",
              "│ ---       ┆ ---       ┆ ---       ┆ ---       ┆   ┆ ---       ┆ ---       ┆ ---       ┆ ---      │\n",
              "│ str       ┆ str       ┆ str       ┆ str       ┆   ┆ str       ┆ str       ┆ str       ┆ str      │\n",
              "╞═══════════╪═══════════╪═══════════╪═══════════╪═══╪═══════════╪═══════════╪═══════════╪══════════╡\n",
              "│ Somewhat  ┆ Somewhat  ┆ Somewhat  ┆ Somewhat  ┆ … ┆ Somewhat  ┆ Somewhat  ┆ Somewhat  ┆ Somewhat │\n",
              "│ Agree     ┆ Disagree  ┆ Agree     ┆ Agree     ┆   ┆ Agree     ┆ Agree     ┆ Agree     ┆ Agree    │\n",
              "│ Somewhat  ┆ Somewhat  ┆ Somewhat  ┆ Somewhat  ┆ … ┆ Neither   ┆ Somewhat  ┆ Neither   ┆ Somewhat │\n",
              "│ Agree     ┆ Disagree  ┆ Agree     ┆ Agree     ┆   ┆ Agree nor ┆ Agree     ┆ Agree nor ┆ Agree    │\n",
              "│           ┆           ┆           ┆           ┆   ┆ Disagree  ┆           ┆ Disagree  ┆          │\n",
              "└───────────┴───────────┴───────────┴───────────┴───┴───────────┴───────────┴───────────┴──────────┘"
            ],
            "text/html": [
              "<div><style>\n",
              ".dataframe > thead > tr,\n",
              ".dataframe > tbody > tr {\n",
              "  text-align: right;\n",
              "  white-space: pre-wrap;\n",
              "}\n",
              "</style>\n",
              "<small>shape: (2, 44)</small><table border=\"1\" class=\"dataframe\"><thead><tr><th>F1</th><th>F5</th><th>F2</th><th>F1.1</th><th>F2.1</th><th>F6</th><th>F4</th><th>F3</th><th>F5.1</th><th>F1.2</th><th>F2.2</th><th>F6.1</th><th>F2.3</th><th>F4.1</th><th>F2.4</th><th>F5.2</th><th>F2.5</th><th>F6.2</th><th>F1.3</th><th>F2.6</th><th>F5.3</th><th>F4.2</th><th>F2.7</th><th>F3.1</th><th>F2.8</th><th>F5.4</th><th>F3.2</th><th>F1.4</th><th>F3.3</th><th>F1.5</th><th>F5.5</th><th>F6.3</th><th>F1.6</th><th>F5.6</th><th>F2.9</th><th>F3.4</th><th>F4.3</th><th>F2.10</th><th>F1.7</th><th>F6.4</th><th>F4.4</th><th>F5.7</th><th>F3.5</th><th>F2.11</th></tr><tr><td>str</td><td>str</td><td>str</td><td>str</td><td>str</td><td>str</td><td>str</td><td>str</td><td>str</td><td>str</td><td>str</td><td>str</td><td>str</td><td>str</td><td>str</td><td>str</td><td>str</td><td>str</td><td>str</td><td>str</td><td>str</td><td>str</td><td>str</td><td>str</td><td>str</td><td>str</td><td>str</td><td>str</td><td>str</td><td>str</td><td>str</td><td>str</td><td>str</td><td>str</td><td>str</td><td>str</td><td>str</td><td>str</td><td>str</td><td>str</td><td>str</td><td>str</td><td>str</td><td>str</td></tr></thead><tbody><tr><td>&quot;Somewhat Agree…</td><td>&quot;Somewhat Disag…</td><td>&quot;Somewhat Agree…</td><td>&quot;Somewhat Agree…</td><td>&quot;Somewhat Agree…</td><td>&quot;Somewhat Disag…</td><td>&quot;Somewhat Agree…</td><td>&quot;Somewhat Agree…</td><td>&quot;Somewhat Agree…</td><td>&quot;Somewhat Agree…</td><td>&quot;Somewhat Agree…</td><td>&quot;Somewhat Agree…</td><td>&quot;Somewhat Agree…</td><td>&quot;Somewhat Agree…</td><td>&quot;Somewhat Agree…</td><td>&quot;Somewhat Agree…</td><td>&quot;Somewhat Agree…</td><td>&quot;Somewhat Agree…</td><td>&quot;Somewhat Agree…</td><td>&quot;Somewhat Agree…</td><td>&quot;Somewhat Agree…</td><td>&quot;Somewhat Agree…</td><td>&quot;Somewhat Agree…</td><td>&quot;Somewhat Disag…</td><td>&quot;Somewhat Agree…</td><td>&quot;Somewhat Agree…</td><td>&quot;Somewhat Agree…</td><td>&quot;Neither Agree …</td><td>&quot;Somewhat Agree…</td><td>&quot;Somewhat Agree…</td><td>&quot;Somewhat Disag…</td><td>&quot;Somewhat Disag…</td><td>&quot;Somewhat Agree…</td><td>&quot;Somewhat Agree…</td><td>&quot;Somewhat Agree…</td><td>&quot;Somewhat Disag…</td><td>&quot;Neither Agree …</td><td>&quot;Somewhat Agree…</td><td>&quot;Somewhat Agree…</td><td>&quot;Somewhat Agree…</td><td>&quot;Somewhat Agree…</td><td>&quot;Somewhat Agree…</td><td>&quot;Somewhat Agree…</td><td>&quot;Somewhat Agree…</td></tr><tr><td>&quot;Somewhat Agree…</td><td>&quot;Somewhat Disag…</td><td>&quot;Somewhat Agree…</td><td>&quot;Somewhat Agree…</td><td>&quot;Somewhat Agree…</td><td>&quot;Somewhat Disag…</td><td>&quot;Somewhat Agree…</td><td>&quot;Neither Agree …</td><td>&quot;Neither Agree …</td><td>&quot;Somewhat Agree…</td><td>&quot;Neither Agree …</td><td>&quot;Somewhat Agree…</td><td>&quot;Somewhat Agree…</td><td>&quot;Neither Agree …</td><td>&quot;Somewhat Agree…</td><td>&quot;Somewhat Agree…</td><td>&quot;Somewhat Agree…</td><td>&quot;Somewhat Agree…</td><td>&quot;Somewhat Agree…</td><td>&quot;Somewhat Agree…</td><td>&quot;Somewhat Agree…</td><td>&quot;Somewhat Agree…</td><td>&quot;Somewhat Agree…</td><td>&quot;Neither Agree …</td><td>&quot;Somewhat Agree…</td><td>&quot;Neither Agree …</td><td>&quot;Neither Agree …</td><td>&quot;Somewhat Agree…</td><td>&quot;Neither Agree …</td><td>&quot;Neither Agree …</td><td>&quot;Neither Agree …</td><td>&quot;Somewhat Disag…</td><td>&quot;Somewhat Agree…</td><td>&quot;Somewhat Disag…</td><td>&quot;Somewhat Agree…</td><td>&quot;Somewhat Agree…</td><td>&quot;Neither Agree …</td><td>&quot;Somewhat Agree…</td><td>&quot;Somewhat Agree…</td><td>&quot;Somewhat Disag…</td><td>&quot;Neither Agree …</td><td>&quot;Somewhat Agree…</td><td>&quot;Neither Agree …</td><td>&quot;Somewhat Agree…</td></tr></tbody></table></div>"
            ]
          },
          "metadata": {},
          "execution_count": 6
        }
      ],
      "source": [
        "\n",
        "(survey\n",
        " .select(pl.col(pl.Utf8))\n",
        " .head(2)\n",
        ")"
      ]
    },
    {
      "cell_type": "markdown",
      "id": "84847c86",
      "metadata": {
        "id": "84847c86"
      },
      "source": [
        "## `select` using regular expression\n",
        "\n",
        "We can use `pl.col('reg_ex')`, provided the `reg_ex` starts with `^` and ends with `$` This covers the following use cases.\n",
        "\n",
        "* `starts_with`\n",
        "* `ends_with`\n",
        "* `contains`"
      ]
    },
    {
      "cell_type": "markdown",
      "id": "21e61db7",
      "metadata": {
        "id": "21e61db7"
      },
      "source": [
        "#### Columns starting with `F1`"
      ]
    },
    {
      "cell_type": "code",
      "execution_count": 7,
      "id": "d39a9a2c",
      "metadata": {
        "id": "d39a9a2c",
        "outputId": "c91733d5-98f5-4b1b-f57a-22ee4d2cb51a",
        "colab": {
          "base_uri": "https://localhost:8080/",
          "height": 161
        }
      },
      "outputs": [
        {
          "output_type": "execute_result",
          "data": {
            "text/plain": [
              "shape: (2, 8)\n",
              "┌────────────┬────────────┬────────────┬───────────┬───────────┬───────────┬───────────┬───────────┐\n",
              "│ F1         ┆ F1.1       ┆ F1.2       ┆ F1.3      ┆ F1.4      ┆ F1.5      ┆ F1.6      ┆ F1.7      │\n",
              "│ ---        ┆ ---        ┆ ---        ┆ ---       ┆ ---       ┆ ---       ┆ ---       ┆ ---       │\n",
              "│ str        ┆ str        ┆ str        ┆ str       ┆ str       ┆ str       ┆ str       ┆ str       │\n",
              "╞════════════╪════════════╪════════════╪═══════════╪═══════════╪═══════════╪═══════════╪═══════════╡\n",
              "│ Somewhat   ┆ Somewhat   ┆ Somewhat   ┆ Somewhat  ┆ Neither   ┆ Somewhat  ┆ Somewhat  ┆ Somewhat  │\n",
              "│ Agree      ┆ Agree      ┆ Agree      ┆ Agree     ┆ Agree nor ┆ Agree     ┆ Agree     ┆ Agree     │\n",
              "│            ┆            ┆            ┆           ┆ Disagree  ┆           ┆           ┆           │\n",
              "│ Somewhat   ┆ Somewhat   ┆ Somewhat   ┆ Somewhat  ┆ Somewhat  ┆ Neither   ┆ Somewhat  ┆ Somewhat  │\n",
              "│ Agree      ┆ Agree      ┆ Agree      ┆ Agree     ┆ Agree     ┆ Agree nor ┆ Agree     ┆ Agree     │\n",
              "│            ┆            ┆            ┆           ┆           ┆ Disagree  ┆           ┆           │\n",
              "└────────────┴────────────┴────────────┴───────────┴───────────┴───────────┴───────────┴───────────┘"
            ],
            "text/html": [
              "<div><style>\n",
              ".dataframe > thead > tr,\n",
              ".dataframe > tbody > tr {\n",
              "  text-align: right;\n",
              "  white-space: pre-wrap;\n",
              "}\n",
              "</style>\n",
              "<small>shape: (2, 8)</small><table border=\"1\" class=\"dataframe\"><thead><tr><th>F1</th><th>F1.1</th><th>F1.2</th><th>F1.3</th><th>F1.4</th><th>F1.5</th><th>F1.6</th><th>F1.7</th></tr><tr><td>str</td><td>str</td><td>str</td><td>str</td><td>str</td><td>str</td><td>str</td><td>str</td></tr></thead><tbody><tr><td>&quot;Somewhat Agree…</td><td>&quot;Somewhat Agree…</td><td>&quot;Somewhat Agree…</td><td>&quot;Somewhat Agree…</td><td>&quot;Neither Agree …</td><td>&quot;Somewhat Agree…</td><td>&quot;Somewhat Agree…</td><td>&quot;Somewhat Agree…</td></tr><tr><td>&quot;Somewhat Agree…</td><td>&quot;Somewhat Agree…</td><td>&quot;Somewhat Agree…</td><td>&quot;Somewhat Agree…</td><td>&quot;Somewhat Agree…</td><td>&quot;Neither Agree …</td><td>&quot;Somewhat Agree…</td><td>&quot;Somewhat Agree…</td></tr></tbody></table></div>"
            ]
          },
          "metadata": {},
          "execution_count": 7
        }
      ],
      "source": [
        "(survey\n",
        " .select(pl.col('^F1.*$'))\n",
        " .head(2)\n",
        ")"
      ]
    },
    {
      "cell_type": "markdown",
      "id": "eb5a349b",
      "metadata": {
        "id": "eb5a349b"
      },
      "source": [
        "#### Columns starting with `F1` or `F2`"
      ]
    },
    {
      "cell_type": "code",
      "execution_count": 8,
      "id": "391f83a6",
      "metadata": {
        "id": "391f83a6",
        "outputId": "70a0de01-2e0d-431c-ef08-3eeb82aa30f8",
        "colab": {
          "base_uri": "https://localhost:8080/",
          "height": 196
        }
      },
      "outputs": [
        {
          "output_type": "execute_result",
          "data": {
            "text/plain": [
              "shape: (2, 20)\n",
              "┌───────────┬───────────┬───────────┬───────────┬───┬───────────┬───────────┬───────────┬──────────┐\n",
              "│ F1        ┆ F2        ┆ F1.1      ┆ F2.1      ┆ … ┆ F2.9      ┆ F2.10     ┆ F1.7      ┆ F2.11    │\n",
              "│ ---       ┆ ---       ┆ ---       ┆ ---       ┆   ┆ ---       ┆ ---       ┆ ---       ┆ ---      │\n",
              "│ str       ┆ str       ┆ str       ┆ str       ┆   ┆ str       ┆ str       ┆ str       ┆ str      │\n",
              "╞═══════════╪═══════════╪═══════════╪═══════════╪═══╪═══════════╪═══════════╪═══════════╪══════════╡\n",
              "│ Somewhat  ┆ Somewhat  ┆ Somewhat  ┆ Somewhat  ┆ … ┆ Somewhat  ┆ Somewhat  ┆ Somewhat  ┆ Somewhat │\n",
              "│ Agree     ┆ Agree     ┆ Agree     ┆ Agree     ┆   ┆ Agree     ┆ Agree     ┆ Agree     ┆ Agree    │\n",
              "│ Somewhat  ┆ Somewhat  ┆ Somewhat  ┆ Somewhat  ┆ … ┆ Somewhat  ┆ Somewhat  ┆ Somewhat  ┆ Somewhat │\n",
              "│ Agree     ┆ Agree     ┆ Agree     ┆ Agree     ┆   ┆ Agree     ┆ Agree     ┆ Agree     ┆ Agree    │\n",
              "└───────────┴───────────┴───────────┴───────────┴───┴───────────┴───────────┴───────────┴──────────┘"
            ],
            "text/html": [
              "<div><style>\n",
              ".dataframe > thead > tr,\n",
              ".dataframe > tbody > tr {\n",
              "  text-align: right;\n",
              "  white-space: pre-wrap;\n",
              "}\n",
              "</style>\n",
              "<small>shape: (2, 20)</small><table border=\"1\" class=\"dataframe\"><thead><tr><th>F1</th><th>F2</th><th>F1.1</th><th>F2.1</th><th>F1.2</th><th>F2.2</th><th>F2.3</th><th>F2.4</th><th>F2.5</th><th>F1.3</th><th>F2.6</th><th>F2.7</th><th>F2.8</th><th>F1.4</th><th>F1.5</th><th>F1.6</th><th>F2.9</th><th>F2.10</th><th>F1.7</th><th>F2.11</th></tr><tr><td>str</td><td>str</td><td>str</td><td>str</td><td>str</td><td>str</td><td>str</td><td>str</td><td>str</td><td>str</td><td>str</td><td>str</td><td>str</td><td>str</td><td>str</td><td>str</td><td>str</td><td>str</td><td>str</td><td>str</td></tr></thead><tbody><tr><td>&quot;Somewhat Agree…</td><td>&quot;Somewhat Agree…</td><td>&quot;Somewhat Agree…</td><td>&quot;Somewhat Agree…</td><td>&quot;Somewhat Agree…</td><td>&quot;Somewhat Agree…</td><td>&quot;Somewhat Agree…</td><td>&quot;Somewhat Agree…</td><td>&quot;Somewhat Agree…</td><td>&quot;Somewhat Agree…</td><td>&quot;Somewhat Agree…</td><td>&quot;Somewhat Agree…</td><td>&quot;Somewhat Agree…</td><td>&quot;Neither Agree …</td><td>&quot;Somewhat Agree…</td><td>&quot;Somewhat Agree…</td><td>&quot;Somewhat Agree…</td><td>&quot;Somewhat Agree…</td><td>&quot;Somewhat Agree…</td><td>&quot;Somewhat Agree…</td></tr><tr><td>&quot;Somewhat Agree…</td><td>&quot;Somewhat Agree…</td><td>&quot;Somewhat Agree…</td><td>&quot;Somewhat Agree…</td><td>&quot;Somewhat Agree…</td><td>&quot;Neither Agree …</td><td>&quot;Somewhat Agree…</td><td>&quot;Somewhat Agree…</td><td>&quot;Somewhat Agree…</td><td>&quot;Somewhat Agree…</td><td>&quot;Somewhat Agree…</td><td>&quot;Somewhat Agree…</td><td>&quot;Somewhat Agree…</td><td>&quot;Somewhat Agree…</td><td>&quot;Neither Agree …</td><td>&quot;Somewhat Agree…</td><td>&quot;Somewhat Agree…</td><td>&quot;Somewhat Agree…</td><td>&quot;Somewhat Agree…</td><td>&quot;Somewhat Agree…</td></tr></tbody></table></div>"
            ]
          },
          "metadata": {},
          "execution_count": 8
        }
      ],
      "source": [
        "(survey\n",
        " .select(pl.col('^(F1|F2).*$'))\n",
        " .head(2)\n",
        ")"
      ]
    },
    {
      "cell_type": "markdown",
      "id": "5f9bc97d",
      "metadata": {
        "id": "5f9bc97d"
      },
      "source": [
        "#### Columns containing `.`"
      ]
    },
    {
      "cell_type": "code",
      "execution_count": 9,
      "id": "83a9e9b6",
      "metadata": {
        "scrolled": true,
        "id": "83a9e9b6",
        "outputId": "11a98b0f-d914-4f16-a018-3ca85c046765",
        "colab": {
          "base_uri": "https://localhost:8080/",
          "height": 250
        }
      },
      "outputs": [
        {
          "output_type": "execute_result",
          "data": {
            "text/plain": [
              "shape: (2, 38)\n",
              "┌───────────┬───────────┬───────────┬───────────┬───┬───────────┬───────────┬───────────┬──────────┐\n",
              "│ F1.1      ┆ F2.1      ┆ F5.1      ┆ F1.2      ┆ … ┆ F4.4      ┆ F5.7      ┆ F3.5      ┆ F2.11    │\n",
              "│ ---       ┆ ---       ┆ ---       ┆ ---       ┆   ┆ ---       ┆ ---       ┆ ---       ┆ ---      │\n",
              "│ str       ┆ str       ┆ str       ┆ str       ┆   ┆ str       ┆ str       ┆ str       ┆ str      │\n",
              "╞═══════════╪═══════════╪═══════════╪═══════════╪═══╪═══════════╪═══════════╪═══════════╪══════════╡\n",
              "│ Somewhat  ┆ Somewhat  ┆ Somewhat  ┆ Somewhat  ┆ … ┆ Somewhat  ┆ Somewhat  ┆ Somewhat  ┆ Somewhat │\n",
              "│ Agree     ┆ Agree     ┆ Agree     ┆ Agree     ┆   ┆ Agree     ┆ Agree     ┆ Agree     ┆ Agree    │\n",
              "│ Somewhat  ┆ Somewhat  ┆ Neither   ┆ Somewhat  ┆ … ┆ Neither   ┆ Somewhat  ┆ Neither   ┆ Somewhat │\n",
              "│ Agree     ┆ Agree     ┆ Agree nor ┆ Agree     ┆   ┆ Agree nor ┆ Agree     ┆ Agree nor ┆ Agree    │\n",
              "│           ┆           ┆ Disagree  ┆           ┆   ┆ Disagree  ┆           ┆ Disagree  ┆          │\n",
              "└───────────┴───────────┴───────────┴───────────┴───┴───────────┴───────────┴───────────┴──────────┘"
            ],
            "text/html": [
              "<div><style>\n",
              ".dataframe > thead > tr,\n",
              ".dataframe > tbody > tr {\n",
              "  text-align: right;\n",
              "  white-space: pre-wrap;\n",
              "}\n",
              "</style>\n",
              "<small>shape: (2, 38)</small><table border=\"1\" class=\"dataframe\"><thead><tr><th>F1.1</th><th>F2.1</th><th>F5.1</th><th>F1.2</th><th>F2.2</th><th>F6.1</th><th>F2.3</th><th>F4.1</th><th>F2.4</th><th>F5.2</th><th>F2.5</th><th>F6.2</th><th>F1.3</th><th>F2.6</th><th>F5.3</th><th>F4.2</th><th>F2.7</th><th>F3.1</th><th>F2.8</th><th>F5.4</th><th>F3.2</th><th>F1.4</th><th>F3.3</th><th>F1.5</th><th>F5.5</th><th>F6.3</th><th>F1.6</th><th>F5.6</th><th>F2.9</th><th>F3.4</th><th>F4.3</th><th>F2.10</th><th>F1.7</th><th>F6.4</th><th>F4.4</th><th>F5.7</th><th>F3.5</th><th>F2.11</th></tr><tr><td>str</td><td>str</td><td>str</td><td>str</td><td>str</td><td>str</td><td>str</td><td>str</td><td>str</td><td>str</td><td>str</td><td>str</td><td>str</td><td>str</td><td>str</td><td>str</td><td>str</td><td>str</td><td>str</td><td>str</td><td>str</td><td>str</td><td>str</td><td>str</td><td>str</td><td>str</td><td>str</td><td>str</td><td>str</td><td>str</td><td>str</td><td>str</td><td>str</td><td>str</td><td>str</td><td>str</td><td>str</td><td>str</td></tr></thead><tbody><tr><td>&quot;Somewhat Agree…</td><td>&quot;Somewhat Agree…</td><td>&quot;Somewhat Agree…</td><td>&quot;Somewhat Agree…</td><td>&quot;Somewhat Agree…</td><td>&quot;Somewhat Agree…</td><td>&quot;Somewhat Agree…</td><td>&quot;Somewhat Agree…</td><td>&quot;Somewhat Agree…</td><td>&quot;Somewhat Agree…</td><td>&quot;Somewhat Agree…</td><td>&quot;Somewhat Agree…</td><td>&quot;Somewhat Agree…</td><td>&quot;Somewhat Agree…</td><td>&quot;Somewhat Agree…</td><td>&quot;Somewhat Agree…</td><td>&quot;Somewhat Agree…</td><td>&quot;Somewhat Disag…</td><td>&quot;Somewhat Agree…</td><td>&quot;Somewhat Agree…</td><td>&quot;Somewhat Agree…</td><td>&quot;Neither Agree …</td><td>&quot;Somewhat Agree…</td><td>&quot;Somewhat Agree…</td><td>&quot;Somewhat Disag…</td><td>&quot;Somewhat Disag…</td><td>&quot;Somewhat Agree…</td><td>&quot;Somewhat Agree…</td><td>&quot;Somewhat Agree…</td><td>&quot;Somewhat Disag…</td><td>&quot;Neither Agree …</td><td>&quot;Somewhat Agree…</td><td>&quot;Somewhat Agree…</td><td>&quot;Somewhat Agree…</td><td>&quot;Somewhat Agree…</td><td>&quot;Somewhat Agree…</td><td>&quot;Somewhat Agree…</td><td>&quot;Somewhat Agree…</td></tr><tr><td>&quot;Somewhat Agree…</td><td>&quot;Somewhat Agree…</td><td>&quot;Neither Agree …</td><td>&quot;Somewhat Agree…</td><td>&quot;Neither Agree …</td><td>&quot;Somewhat Agree…</td><td>&quot;Somewhat Agree…</td><td>&quot;Neither Agree …</td><td>&quot;Somewhat Agree…</td><td>&quot;Somewhat Agree…</td><td>&quot;Somewhat Agree…</td><td>&quot;Somewhat Agree…</td><td>&quot;Somewhat Agree…</td><td>&quot;Somewhat Agree…</td><td>&quot;Somewhat Agree…</td><td>&quot;Somewhat Agree…</td><td>&quot;Somewhat Agree…</td><td>&quot;Neither Agree …</td><td>&quot;Somewhat Agree…</td><td>&quot;Neither Agree …</td><td>&quot;Neither Agree …</td><td>&quot;Somewhat Agree…</td><td>&quot;Neither Agree …</td><td>&quot;Neither Agree …</td><td>&quot;Neither Agree …</td><td>&quot;Somewhat Disag…</td><td>&quot;Somewhat Agree…</td><td>&quot;Somewhat Disag…</td><td>&quot;Somewhat Agree…</td><td>&quot;Somewhat Agree…</td><td>&quot;Neither Agree …</td><td>&quot;Somewhat Agree…</td><td>&quot;Somewhat Agree…</td><td>&quot;Somewhat Disag…</td><td>&quot;Neither Agree …</td><td>&quot;Somewhat Agree…</td><td>&quot;Neither Agree …</td><td>&quot;Somewhat Agree…</td></tr></tbody></table></div>"
            ]
          },
          "metadata": {},
          "execution_count": 9
        }
      ],
      "source": [
        "(survey\n",
        " .select(pl.col('^.*\\..*$'))\n",
        " .head(2)\n",
        ")"
      ]
    },
    {
      "cell_type": "markdown",
      "id": "c53c51da",
      "metadata": {
        "id": "c53c51da"
      },
      "source": [
        "## `exclude` a column\n",
        "\n",
        "We can use `pl.all().exclude('reg_ex')`, provided the `reg_ex` starts with `^` and ends with `$`"
      ]
    },
    {
      "cell_type": "markdown",
      "id": "6e7a0db1",
      "metadata": {
        "id": "6e7a0db1"
      },
      "source": [
        "#### Exclude columns starting with `F1`"
      ]
    },
    {
      "cell_type": "code",
      "execution_count": 10,
      "id": "265a2332",
      "metadata": {
        "id": "265a2332",
        "outputId": "02dced38-660f-4a81-c251-6420989e25d6",
        "colab": {
          "base_uri": "https://localhost:8080/",
          "height": 250
        }
      },
      "outputs": [
        {
          "output_type": "execute_result",
          "data": {
            "text/plain": [
              "shape: (2, 37)\n",
              "┌─────┬────────────┬────────────┬────────────┬───┬────────────┬────────────┬───────────┬───────────┐\n",
              "│ ID  ┆ F5         ┆ F2         ┆ F2.1       ┆ … ┆ F4.4       ┆ F5.7       ┆ F3.5      ┆ F2.11     │\n",
              "│ --- ┆ ---        ┆ ---        ┆ ---        ┆   ┆ ---        ┆ ---        ┆ ---       ┆ ---       │\n",
              "│ i64 ┆ str        ┆ str        ┆ str        ┆   ┆ str        ┆ str        ┆ str       ┆ str       │\n",
              "╞═════╪════════════╪════════════╪════════════╪═══╪════════════╪════════════╪═══════════╪═══════════╡\n",
              "│ 1   ┆ Somewhat   ┆ Somewhat   ┆ Somewhat   ┆ … ┆ Somewhat   ┆ Somewhat   ┆ Somewhat  ┆ Somewhat  │\n",
              "│     ┆ Disagree   ┆ Agree      ┆ Agree      ┆   ┆ Agree      ┆ Agree      ┆ Agree     ┆ Agree     │\n",
              "│ 2   ┆ Somewhat   ┆ Somewhat   ┆ Somewhat   ┆ … ┆ Neither    ┆ Somewhat   ┆ Neither   ┆ Somewhat  │\n",
              "│     ┆ Disagree   ┆ Agree      ┆ Agree      ┆   ┆ Agree nor  ┆ Agree      ┆ Agree nor ┆ Agree     │\n",
              "│     ┆            ┆            ┆            ┆   ┆ Disagree   ┆            ┆ Disagree  ┆           │\n",
              "└─────┴────────────┴────────────┴────────────┴───┴────────────┴────────────┴───────────┴───────────┘"
            ],
            "text/html": [
              "<div><style>\n",
              ".dataframe > thead > tr,\n",
              ".dataframe > tbody > tr {\n",
              "  text-align: right;\n",
              "  white-space: pre-wrap;\n",
              "}\n",
              "</style>\n",
              "<small>shape: (2, 37)</small><table border=\"1\" class=\"dataframe\"><thead><tr><th>ID</th><th>F5</th><th>F2</th><th>F2.1</th><th>F6</th><th>F4</th><th>F3</th><th>F5.1</th><th>F2.2</th><th>F6.1</th><th>F2.3</th><th>F4.1</th><th>F2.4</th><th>F5.2</th><th>F2.5</th><th>F6.2</th><th>F2.6</th><th>F5.3</th><th>F4.2</th><th>F2.7</th><th>F3.1</th><th>F2.8</th><th>F5.4</th><th>F3.2</th><th>F3.3</th><th>F5.5</th><th>F6.3</th><th>F5.6</th><th>F2.9</th><th>F3.4</th><th>F4.3</th><th>F2.10</th><th>F6.4</th><th>F4.4</th><th>F5.7</th><th>F3.5</th><th>F2.11</th></tr><tr><td>i64</td><td>str</td><td>str</td><td>str</td><td>str</td><td>str</td><td>str</td><td>str</td><td>str</td><td>str</td><td>str</td><td>str</td><td>str</td><td>str</td><td>str</td><td>str</td><td>str</td><td>str</td><td>str</td><td>str</td><td>str</td><td>str</td><td>str</td><td>str</td><td>str</td><td>str</td><td>str</td><td>str</td><td>str</td><td>str</td><td>str</td><td>str</td><td>str</td><td>str</td><td>str</td><td>str</td><td>str</td></tr></thead><tbody><tr><td>1</td><td>&quot;Somewhat Disag…</td><td>&quot;Somewhat Agree…</td><td>&quot;Somewhat Agree…</td><td>&quot;Somewhat Disag…</td><td>&quot;Somewhat Agree…</td><td>&quot;Somewhat Agree…</td><td>&quot;Somewhat Agree…</td><td>&quot;Somewhat Agree…</td><td>&quot;Somewhat Agree…</td><td>&quot;Somewhat Agree…</td><td>&quot;Somewhat Agree…</td><td>&quot;Somewhat Agree…</td><td>&quot;Somewhat Agree…</td><td>&quot;Somewhat Agree…</td><td>&quot;Somewhat Agree…</td><td>&quot;Somewhat Agree…</td><td>&quot;Somewhat Agree…</td><td>&quot;Somewhat Agree…</td><td>&quot;Somewhat Agree…</td><td>&quot;Somewhat Disag…</td><td>&quot;Somewhat Agree…</td><td>&quot;Somewhat Agree…</td><td>&quot;Somewhat Agree…</td><td>&quot;Somewhat Agree…</td><td>&quot;Somewhat Disag…</td><td>&quot;Somewhat Disag…</td><td>&quot;Somewhat Agree…</td><td>&quot;Somewhat Agree…</td><td>&quot;Somewhat Disag…</td><td>&quot;Neither Agree …</td><td>&quot;Somewhat Agree…</td><td>&quot;Somewhat Agree…</td><td>&quot;Somewhat Agree…</td><td>&quot;Somewhat Agree…</td><td>&quot;Somewhat Agree…</td><td>&quot;Somewhat Agree…</td></tr><tr><td>2</td><td>&quot;Somewhat Disag…</td><td>&quot;Somewhat Agree…</td><td>&quot;Somewhat Agree…</td><td>&quot;Somewhat Disag…</td><td>&quot;Somewhat Agree…</td><td>&quot;Neither Agree …</td><td>&quot;Neither Agree …</td><td>&quot;Neither Agree …</td><td>&quot;Somewhat Agree…</td><td>&quot;Somewhat Agree…</td><td>&quot;Neither Agree …</td><td>&quot;Somewhat Agree…</td><td>&quot;Somewhat Agree…</td><td>&quot;Somewhat Agree…</td><td>&quot;Somewhat Agree…</td><td>&quot;Somewhat Agree…</td><td>&quot;Somewhat Agree…</td><td>&quot;Somewhat Agree…</td><td>&quot;Somewhat Agree…</td><td>&quot;Neither Agree …</td><td>&quot;Somewhat Agree…</td><td>&quot;Neither Agree …</td><td>&quot;Neither Agree …</td><td>&quot;Neither Agree …</td><td>&quot;Neither Agree …</td><td>&quot;Somewhat Disag…</td><td>&quot;Somewhat Disag…</td><td>&quot;Somewhat Agree…</td><td>&quot;Somewhat Agree…</td><td>&quot;Neither Agree …</td><td>&quot;Somewhat Agree…</td><td>&quot;Somewhat Disag…</td><td>&quot;Neither Agree …</td><td>&quot;Somewhat Agree…</td><td>&quot;Neither Agree …</td><td>&quot;Somewhat Agree…</td></tr></tbody></table></div>"
            ]
          },
          "metadata": {},
          "execution_count": 10
        }
      ],
      "source": [
        "(survey\n",
        " .select(pl.all().exclude('^F1.*$'))\n",
        " .head(2))"
      ]
    },
    {
      "cell_type": "markdown",
      "id": "ae52b857",
      "metadata": {
        "id": "ae52b857"
      },
      "source": [
        "#### Exclude columns containing `.`"
      ]
    },
    {
      "cell_type": "code",
      "execution_count": 11,
      "id": "8a24e34f",
      "metadata": {
        "id": "8a24e34f",
        "outputId": "d557a64d-4792-4bcc-caa7-770cac9b61b1",
        "colab": {
          "base_uri": "https://localhost:8080/",
          "height": 161
        }
      },
      "outputs": [
        {
          "output_type": "execute_result",
          "data": {
            "text/plain": [
              "shape: (2, 7)\n",
              "┌─────┬──────────┬──────────┬────────────────┬──────────┬────────────────┬───────────────────┐\n",
              "│ ID  ┆ F1       ┆ F5       ┆ F2             ┆ F6       ┆ F4             ┆ F3                │\n",
              "│ --- ┆ ---      ┆ ---      ┆ ---            ┆ ---      ┆ ---            ┆ ---               │\n",
              "│ i64 ┆ str      ┆ str      ┆ str            ┆ str      ┆ str            ┆ str               │\n",
              "╞═════╪══════════╪══════════╪════════════════╪══════════╪════════════════╪═══════════════════╡\n",
              "│ 1   ┆ Somewhat ┆ Somewhat ┆ Somewhat Agree ┆ Somewhat ┆ Somewhat Agree ┆ Somewhat Agree    │\n",
              "│     ┆ Agree    ┆ Disagree ┆                ┆ Disagree ┆                ┆                   │\n",
              "│ 2   ┆ Somewhat ┆ Somewhat ┆ Somewhat Agree ┆ Somewhat ┆ Somewhat Agree ┆ Neither Agree nor │\n",
              "│     ┆ Agree    ┆ Disagree ┆                ┆ Disagree ┆                ┆ Disagree          │\n",
              "└─────┴──────────┴──────────┴────────────────┴──────────┴────────────────┴───────────────────┘"
            ],
            "text/html": [
              "<div><style>\n",
              ".dataframe > thead > tr,\n",
              ".dataframe > tbody > tr {\n",
              "  text-align: right;\n",
              "  white-space: pre-wrap;\n",
              "}\n",
              "</style>\n",
              "<small>shape: (2, 7)</small><table border=\"1\" class=\"dataframe\"><thead><tr><th>ID</th><th>F1</th><th>F5</th><th>F2</th><th>F6</th><th>F4</th><th>F3</th></tr><tr><td>i64</td><td>str</td><td>str</td><td>str</td><td>str</td><td>str</td><td>str</td></tr></thead><tbody><tr><td>1</td><td>&quot;Somewhat Agree…</td><td>&quot;Somewhat Disag…</td><td>&quot;Somewhat Agree…</td><td>&quot;Somewhat Disag…</td><td>&quot;Somewhat Agree…</td><td>&quot;Somewhat Agree…</td></tr><tr><td>2</td><td>&quot;Somewhat Agree…</td><td>&quot;Somewhat Disag…</td><td>&quot;Somewhat Agree…</td><td>&quot;Somewhat Disag…</td><td>&quot;Somewhat Agree…</td><td>&quot;Neither Agree …</td></tr></tbody></table></div>"
            ]
          },
          "metadata": {},
          "execution_count": 11
        }
      ],
      "source": [
        "(survey\n",
        " .select(pl.all().exclude('^.*\\..*$')) # Need to \"escape\" the period with \\.\n",
        " .head(2))"
      ]
    },
    {
      "cell_type": "markdown",
      "id": "48b95eb3",
      "metadata": {
        "id": "48b95eb3"
      },
      "source": [
        "#### Excluding columns by type"
      ]
    },
    {
      "cell_type": "code",
      "execution_count": 12,
      "id": "30911de8",
      "metadata": {
        "scrolled": true,
        "id": "30911de8",
        "outputId": "f650004a-84f9-41c0-c0fa-1ce105f39464",
        "colab": {
          "base_uri": "https://localhost:8080/",
          "height": 250
        }
      },
      "outputs": [
        {
          "output_type": "execute_result",
          "data": {
            "text/plain": [
              "shape: (2, 44)\n",
              "┌───────────┬───────────┬───────────┬───────────┬───┬───────────┬───────────┬───────────┬──────────┐\n",
              "│ F1        ┆ F5        ┆ F2        ┆ F1.1      ┆ … ┆ F4.4      ┆ F5.7      ┆ F3.5      ┆ F2.11    │\n",
              "│ ---       ┆ ---       ┆ ---       ┆ ---       ┆   ┆ ---       ┆ ---       ┆ ---       ┆ ---      │\n",
              "│ str       ┆ str       ┆ str       ┆ str       ┆   ┆ str       ┆ str       ┆ str       ┆ str      │\n",
              "╞═══════════╪═══════════╪═══════════╪═══════════╪═══╪═══════════╪═══════════╪═══════════╪══════════╡\n",
              "│ Somewhat  ┆ Somewhat  ┆ Somewhat  ┆ Somewhat  ┆ … ┆ Somewhat  ┆ Somewhat  ┆ Somewhat  ┆ Somewhat │\n",
              "│ Agree     ┆ Disagree  ┆ Agree     ┆ Agree     ┆   ┆ Agree     ┆ Agree     ┆ Agree     ┆ Agree    │\n",
              "│ Somewhat  ┆ Somewhat  ┆ Somewhat  ┆ Somewhat  ┆ … ┆ Neither   ┆ Somewhat  ┆ Neither   ┆ Somewhat │\n",
              "│ Agree     ┆ Disagree  ┆ Agree     ┆ Agree     ┆   ┆ Agree nor ┆ Agree     ┆ Agree nor ┆ Agree    │\n",
              "│           ┆           ┆           ┆           ┆   ┆ Disagree  ┆           ┆ Disagree  ┆          │\n",
              "└───────────┴───────────┴───────────┴───────────┴───┴───────────┴───────────┴───────────┴──────────┘"
            ],
            "text/html": [
              "<div><style>\n",
              ".dataframe > thead > tr,\n",
              ".dataframe > tbody > tr {\n",
              "  text-align: right;\n",
              "  white-space: pre-wrap;\n",
              "}\n",
              "</style>\n",
              "<small>shape: (2, 44)</small><table border=\"1\" class=\"dataframe\"><thead><tr><th>F1</th><th>F5</th><th>F2</th><th>F1.1</th><th>F2.1</th><th>F6</th><th>F4</th><th>F3</th><th>F5.1</th><th>F1.2</th><th>F2.2</th><th>F6.1</th><th>F2.3</th><th>F4.1</th><th>F2.4</th><th>F5.2</th><th>F2.5</th><th>F6.2</th><th>F1.3</th><th>F2.6</th><th>F5.3</th><th>F4.2</th><th>F2.7</th><th>F3.1</th><th>F2.8</th><th>F5.4</th><th>F3.2</th><th>F1.4</th><th>F3.3</th><th>F1.5</th><th>F5.5</th><th>F6.3</th><th>F1.6</th><th>F5.6</th><th>F2.9</th><th>F3.4</th><th>F4.3</th><th>F2.10</th><th>F1.7</th><th>F6.4</th><th>F4.4</th><th>F5.7</th><th>F3.5</th><th>F2.11</th></tr><tr><td>str</td><td>str</td><td>str</td><td>str</td><td>str</td><td>str</td><td>str</td><td>str</td><td>str</td><td>str</td><td>str</td><td>str</td><td>str</td><td>str</td><td>str</td><td>str</td><td>str</td><td>str</td><td>str</td><td>str</td><td>str</td><td>str</td><td>str</td><td>str</td><td>str</td><td>str</td><td>str</td><td>str</td><td>str</td><td>str</td><td>str</td><td>str</td><td>str</td><td>str</td><td>str</td><td>str</td><td>str</td><td>str</td><td>str</td><td>str</td><td>str</td><td>str</td><td>str</td><td>str</td></tr></thead><tbody><tr><td>&quot;Somewhat Agree…</td><td>&quot;Somewhat Disag…</td><td>&quot;Somewhat Agree…</td><td>&quot;Somewhat Agree…</td><td>&quot;Somewhat Agree…</td><td>&quot;Somewhat Disag…</td><td>&quot;Somewhat Agree…</td><td>&quot;Somewhat Agree…</td><td>&quot;Somewhat Agree…</td><td>&quot;Somewhat Agree…</td><td>&quot;Somewhat Agree…</td><td>&quot;Somewhat Agree…</td><td>&quot;Somewhat Agree…</td><td>&quot;Somewhat Agree…</td><td>&quot;Somewhat Agree…</td><td>&quot;Somewhat Agree…</td><td>&quot;Somewhat Agree…</td><td>&quot;Somewhat Agree…</td><td>&quot;Somewhat Agree…</td><td>&quot;Somewhat Agree…</td><td>&quot;Somewhat Agree…</td><td>&quot;Somewhat Agree…</td><td>&quot;Somewhat Agree…</td><td>&quot;Somewhat Disag…</td><td>&quot;Somewhat Agree…</td><td>&quot;Somewhat Agree…</td><td>&quot;Somewhat Agree…</td><td>&quot;Neither Agree …</td><td>&quot;Somewhat Agree…</td><td>&quot;Somewhat Agree…</td><td>&quot;Somewhat Disag…</td><td>&quot;Somewhat Disag…</td><td>&quot;Somewhat Agree…</td><td>&quot;Somewhat Agree…</td><td>&quot;Somewhat Agree…</td><td>&quot;Somewhat Disag…</td><td>&quot;Neither Agree …</td><td>&quot;Somewhat Agree…</td><td>&quot;Somewhat Agree…</td><td>&quot;Somewhat Agree…</td><td>&quot;Somewhat Agree…</td><td>&quot;Somewhat Agree…</td><td>&quot;Somewhat Agree…</td><td>&quot;Somewhat Agree…</td></tr><tr><td>&quot;Somewhat Agree…</td><td>&quot;Somewhat Disag…</td><td>&quot;Somewhat Agree…</td><td>&quot;Somewhat Agree…</td><td>&quot;Somewhat Agree…</td><td>&quot;Somewhat Disag…</td><td>&quot;Somewhat Agree…</td><td>&quot;Neither Agree …</td><td>&quot;Neither Agree …</td><td>&quot;Somewhat Agree…</td><td>&quot;Neither Agree …</td><td>&quot;Somewhat Agree…</td><td>&quot;Somewhat Agree…</td><td>&quot;Neither Agree …</td><td>&quot;Somewhat Agree…</td><td>&quot;Somewhat Agree…</td><td>&quot;Somewhat Agree…</td><td>&quot;Somewhat Agree…</td><td>&quot;Somewhat Agree…</td><td>&quot;Somewhat Agree…</td><td>&quot;Somewhat Agree…</td><td>&quot;Somewhat Agree…</td><td>&quot;Somewhat Agree…</td><td>&quot;Neither Agree …</td><td>&quot;Somewhat Agree…</td><td>&quot;Neither Agree …</td><td>&quot;Neither Agree …</td><td>&quot;Somewhat Agree…</td><td>&quot;Neither Agree …</td><td>&quot;Neither Agree …</td><td>&quot;Neither Agree …</td><td>&quot;Somewhat Disag…</td><td>&quot;Somewhat Agree…</td><td>&quot;Somewhat Disag…</td><td>&quot;Somewhat Agree…</td><td>&quot;Somewhat Agree…</td><td>&quot;Neither Agree …</td><td>&quot;Somewhat Agree…</td><td>&quot;Somewhat Agree…</td><td>&quot;Somewhat Disag…</td><td>&quot;Neither Agree …</td><td>&quot;Somewhat Agree…</td><td>&quot;Neither Agree …</td><td>&quot;Somewhat Agree…</td></tr></tbody></table></div>"
            ]
          },
          "metadata": {},
          "execution_count": 12
        }
      ],
      "source": [
        "(survey\n",
        " .select(pl.all().exclude(pl.Int64))\n",
        " .head(2))"
      ]
    },
    {
      "cell_type": "markdown",
      "id": "e4a6ea83",
      "metadata": {
        "id": "e4a6ea83"
      },
      "source": [
        "## Regular expressions are powerful, but hard to read\n",
        "\n",
        "* Quick! What does `pl.col('^.*\\..*$')` say?\n",
        "* Better to hide the details for common takes like `contains('.')`"
      ]
    },
    {
      "cell_type": "markdown",
      "id": "96d8cbae",
      "metadata": {
        "id": "96d8cbae"
      },
      "source": [
        "## `select` helper functions for substring\n",
        "\n",
        "* `df.columns >> cols.startswith(substr)`\n",
        "* `df.columns >> cols.endswith(substr)`\n",
        "* `df.columns >> cols.contains(substr)`"
      ]
    },
    {
      "cell_type": "code",
      "execution_count": 19,
      "id": "094a57c5",
      "metadata": {
        "id": "094a57c5",
        "outputId": "938e129e-c893-42f3-cad0-19a0e1316ecb",
        "colab": {
          "base_uri": "https://localhost:8080/",
          "height": 161
        }
      },
      "outputs": [
        {
          "output_type": "execute_result",
          "data": {
            "text/plain": [
              "shape: (2, 8)\n",
              "┌────────────┬────────────┬────────────┬───────────┬───────────┬───────────┬───────────┬───────────┐\n",
              "│ F1         ┆ F1.1       ┆ F1.2       ┆ F1.3      ┆ F1.4      ┆ F1.5      ┆ F1.6      ┆ F1.7      │\n",
              "│ ---        ┆ ---        ┆ ---        ┆ ---       ┆ ---       ┆ ---       ┆ ---       ┆ ---       │\n",
              "│ str        ┆ str        ┆ str        ┆ str       ┆ str       ┆ str       ┆ str       ┆ str       │\n",
              "╞════════════╪════════════╪════════════╪═══════════╪═══════════╪═══════════╪═══════════╪═══════════╡\n",
              "│ Somewhat   ┆ Somewhat   ┆ Somewhat   ┆ Somewhat  ┆ Neither   ┆ Somewhat  ┆ Somewhat  ┆ Somewhat  │\n",
              "│ Agree      ┆ Agree      ┆ Agree      ┆ Agree     ┆ Agree nor ┆ Agree     ┆ Agree     ┆ Agree     │\n",
              "│            ┆            ┆            ┆           ┆ Disagree  ┆           ┆           ┆           │\n",
              "│ Somewhat   ┆ Somewhat   ┆ Somewhat   ┆ Somewhat  ┆ Somewhat  ┆ Neither   ┆ Somewhat  ┆ Somewhat  │\n",
              "│ Agree      ┆ Agree      ┆ Agree      ┆ Agree     ┆ Agree     ┆ Agree nor ┆ Agree     ┆ Agree     │\n",
              "│            ┆            ┆            ┆           ┆           ┆ Disagree  ┆           ┆           │\n",
              "└────────────┴────────────┴────────────┴───────────┴───────────┴───────────┴───────────┴───────────┘"
            ],
            "text/html": [
              "<div><style>\n",
              ".dataframe > thead > tr,\n",
              ".dataframe > tbody > tr {\n",
              "  text-align: right;\n",
              "  white-space: pre-wrap;\n",
              "}\n",
              "</style>\n",
              "<small>shape: (2, 8)</small><table border=\"1\" class=\"dataframe\"><thead><tr><th>F1</th><th>F1.1</th><th>F1.2</th><th>F1.3</th><th>F1.4</th><th>F1.5</th><th>F1.6</th><th>F1.7</th></tr><tr><td>str</td><td>str</td><td>str</td><td>str</td><td>str</td><td>str</td><td>str</td><td>str</td></tr></thead><tbody><tr><td>&quot;Somewhat Agree…</td><td>&quot;Somewhat Agree…</td><td>&quot;Somewhat Agree…</td><td>&quot;Somewhat Agree…</td><td>&quot;Neither Agree …</td><td>&quot;Somewhat Agree…</td><td>&quot;Somewhat Agree…</td><td>&quot;Somewhat Agree…</td></tr><tr><td>&quot;Somewhat Agree…</td><td>&quot;Somewhat Agree…</td><td>&quot;Somewhat Agree…</td><td>&quot;Somewhat Agree…</td><td>&quot;Somewhat Agree…</td><td>&quot;Neither Agree …</td><td>&quot;Somewhat Agree…</td><td>&quot;Somewhat Agree…</td></tr></tbody></table></div>"
            ]
          },
          "metadata": {},
          "execution_count": 19
        }
      ],
      "source": [
        "from more_polars import cols\n",
        "\n",
        "(survey\n",
        " .select(survey.columns >> cols.startswith('F1'))\n",
        " .head(2)\n",
        ")"
      ]
    },
    {
      "cell_type": "code",
      "execution_count": 20,
      "id": "90f28283",
      "metadata": {
        "id": "90f28283",
        "outputId": "515fa456-58d1-4367-9d47-ef735ec542cf",
        "colab": {
          "base_uri": "https://localhost:8080/",
          "height": 161
        }
      },
      "outputs": [
        {
          "output_type": "execute_result",
          "data": {
            "text/plain": [
              "shape: (2, 6)\n",
              "┌──────────┬─────────────────┬─────────────────┬─────────────────┬────────────────┬────────────────┐\n",
              "│ F1.2     ┆ F2.2            ┆ F5.2            ┆ F6.2            ┆ F4.2           ┆ F3.2           │\n",
              "│ ---      ┆ ---             ┆ ---             ┆ ---             ┆ ---            ┆ ---            │\n",
              "│ str      ┆ str             ┆ str             ┆ str             ┆ str            ┆ str            │\n",
              "╞══════════╪═════════════════╪═════════════════╪═════════════════╪════════════════╪════════════════╡\n",
              "│ Somewhat ┆ Somewhat Agree  ┆ Somewhat Agree  ┆ Somewhat Agree  ┆ Somewhat Agree ┆ Somewhat Agree │\n",
              "│ Agree    ┆                 ┆                 ┆                 ┆                ┆                │\n",
              "│ Somewhat ┆ Neither Agree   ┆ Somewhat Agree  ┆ Somewhat Agree  ┆ Somewhat Agree ┆ Neither Agree  │\n",
              "│ Agree    ┆ nor Disagree    ┆                 ┆                 ┆                ┆ nor Disagree   │\n",
              "└──────────┴─────────────────┴─────────────────┴─────────────────┴────────────────┴────────────────┘"
            ],
            "text/html": [
              "<div><style>\n",
              ".dataframe > thead > tr,\n",
              ".dataframe > tbody > tr {\n",
              "  text-align: right;\n",
              "  white-space: pre-wrap;\n",
              "}\n",
              "</style>\n",
              "<small>shape: (2, 6)</small><table border=\"1\" class=\"dataframe\"><thead><tr><th>F1.2</th><th>F2.2</th><th>F5.2</th><th>F6.2</th><th>F4.2</th><th>F3.2</th></tr><tr><td>str</td><td>str</td><td>str</td><td>str</td><td>str</td><td>str</td></tr></thead><tbody><tr><td>&quot;Somewhat Agree…</td><td>&quot;Somewhat Agree…</td><td>&quot;Somewhat Agree…</td><td>&quot;Somewhat Agree…</td><td>&quot;Somewhat Agree…</td><td>&quot;Somewhat Agree…</td></tr><tr><td>&quot;Somewhat Agree…</td><td>&quot;Neither Agree …</td><td>&quot;Somewhat Agree…</td><td>&quot;Somewhat Agree…</td><td>&quot;Somewhat Agree…</td><td>&quot;Neither Agree …</td></tr></tbody></table></div>"
            ]
          },
          "metadata": {},
          "execution_count": 20
        }
      ],
      "source": [
        "(survey\n",
        " .select(survey.columns >> cols.endswith('.2'))\n",
        " .head(2)\n",
        ")"
      ]
    },
    {
      "cell_type": "code",
      "execution_count": 21,
      "id": "73bb38b9",
      "metadata": {
        "id": "73bb38b9",
        "outputId": "55b3d08a-ab77-4d5c-cab1-12b4950fbb12",
        "colab": {
          "base_uri": "https://localhost:8080/",
          "height": 250
        }
      },
      "outputs": [
        {
          "output_type": "execute_result",
          "data": {
            "text/plain": [
              "shape: (2, 38)\n",
              "┌───────────┬───────────┬───────────┬───────────┬───┬───────────┬───────────┬───────────┬──────────┐\n",
              "│ F1.1      ┆ F2.1      ┆ F5.1      ┆ F1.2      ┆ … ┆ F4.4      ┆ F5.7      ┆ F3.5      ┆ F2.11    │\n",
              "│ ---       ┆ ---       ┆ ---       ┆ ---       ┆   ┆ ---       ┆ ---       ┆ ---       ┆ ---      │\n",
              "│ str       ┆ str       ┆ str       ┆ str       ┆   ┆ str       ┆ str       ┆ str       ┆ str      │\n",
              "╞═══════════╪═══════════╪═══════════╪═══════════╪═══╪═══════════╪═══════════╪═══════════╪══════════╡\n",
              "│ Somewhat  ┆ Somewhat  ┆ Somewhat  ┆ Somewhat  ┆ … ┆ Somewhat  ┆ Somewhat  ┆ Somewhat  ┆ Somewhat │\n",
              "│ Agree     ┆ Agree     ┆ Agree     ┆ Agree     ┆   ┆ Agree     ┆ Agree     ┆ Agree     ┆ Agree    │\n",
              "│ Somewhat  ┆ Somewhat  ┆ Neither   ┆ Somewhat  ┆ … ┆ Neither   ┆ Somewhat  ┆ Neither   ┆ Somewhat │\n",
              "│ Agree     ┆ Agree     ┆ Agree nor ┆ Agree     ┆   ┆ Agree nor ┆ Agree     ┆ Agree nor ┆ Agree    │\n",
              "│           ┆           ┆ Disagree  ┆           ┆   ┆ Disagree  ┆           ┆ Disagree  ┆          │\n",
              "└───────────┴───────────┴───────────┴───────────┴───┴───────────┴───────────┴───────────┴──────────┘"
            ],
            "text/html": [
              "<div><style>\n",
              ".dataframe > thead > tr,\n",
              ".dataframe > tbody > tr {\n",
              "  text-align: right;\n",
              "  white-space: pre-wrap;\n",
              "}\n",
              "</style>\n",
              "<small>shape: (2, 38)</small><table border=\"1\" class=\"dataframe\"><thead><tr><th>F1.1</th><th>F2.1</th><th>F5.1</th><th>F1.2</th><th>F2.2</th><th>F6.1</th><th>F2.3</th><th>F4.1</th><th>F2.4</th><th>F5.2</th><th>F2.5</th><th>F6.2</th><th>F1.3</th><th>F2.6</th><th>F5.3</th><th>F4.2</th><th>F2.7</th><th>F3.1</th><th>F2.8</th><th>F5.4</th><th>F3.2</th><th>F1.4</th><th>F3.3</th><th>F1.5</th><th>F5.5</th><th>F6.3</th><th>F1.6</th><th>F5.6</th><th>F2.9</th><th>F3.4</th><th>F4.3</th><th>F2.10</th><th>F1.7</th><th>F6.4</th><th>F4.4</th><th>F5.7</th><th>F3.5</th><th>F2.11</th></tr><tr><td>str</td><td>str</td><td>str</td><td>str</td><td>str</td><td>str</td><td>str</td><td>str</td><td>str</td><td>str</td><td>str</td><td>str</td><td>str</td><td>str</td><td>str</td><td>str</td><td>str</td><td>str</td><td>str</td><td>str</td><td>str</td><td>str</td><td>str</td><td>str</td><td>str</td><td>str</td><td>str</td><td>str</td><td>str</td><td>str</td><td>str</td><td>str</td><td>str</td><td>str</td><td>str</td><td>str</td><td>str</td><td>str</td></tr></thead><tbody><tr><td>&quot;Somewhat Agree…</td><td>&quot;Somewhat Agree…</td><td>&quot;Somewhat Agree…</td><td>&quot;Somewhat Agree…</td><td>&quot;Somewhat Agree…</td><td>&quot;Somewhat Agree…</td><td>&quot;Somewhat Agree…</td><td>&quot;Somewhat Agree…</td><td>&quot;Somewhat Agree…</td><td>&quot;Somewhat Agree…</td><td>&quot;Somewhat Agree…</td><td>&quot;Somewhat Agree…</td><td>&quot;Somewhat Agree…</td><td>&quot;Somewhat Agree…</td><td>&quot;Somewhat Agree…</td><td>&quot;Somewhat Agree…</td><td>&quot;Somewhat Agree…</td><td>&quot;Somewhat Disag…</td><td>&quot;Somewhat Agree…</td><td>&quot;Somewhat Agree…</td><td>&quot;Somewhat Agree…</td><td>&quot;Neither Agree …</td><td>&quot;Somewhat Agree…</td><td>&quot;Somewhat Agree…</td><td>&quot;Somewhat Disag…</td><td>&quot;Somewhat Disag…</td><td>&quot;Somewhat Agree…</td><td>&quot;Somewhat Agree…</td><td>&quot;Somewhat Agree…</td><td>&quot;Somewhat Disag…</td><td>&quot;Neither Agree …</td><td>&quot;Somewhat Agree…</td><td>&quot;Somewhat Agree…</td><td>&quot;Somewhat Agree…</td><td>&quot;Somewhat Agree…</td><td>&quot;Somewhat Agree…</td><td>&quot;Somewhat Agree…</td><td>&quot;Somewhat Agree…</td></tr><tr><td>&quot;Somewhat Agree…</td><td>&quot;Somewhat Agree…</td><td>&quot;Neither Agree …</td><td>&quot;Somewhat Agree…</td><td>&quot;Neither Agree …</td><td>&quot;Somewhat Agree…</td><td>&quot;Somewhat Agree…</td><td>&quot;Neither Agree …</td><td>&quot;Somewhat Agree…</td><td>&quot;Somewhat Agree…</td><td>&quot;Somewhat Agree…</td><td>&quot;Somewhat Agree…</td><td>&quot;Somewhat Agree…</td><td>&quot;Somewhat Agree…</td><td>&quot;Somewhat Agree…</td><td>&quot;Somewhat Agree…</td><td>&quot;Somewhat Agree…</td><td>&quot;Neither Agree …</td><td>&quot;Somewhat Agree…</td><td>&quot;Neither Agree …</td><td>&quot;Neither Agree …</td><td>&quot;Somewhat Agree…</td><td>&quot;Neither Agree …</td><td>&quot;Neither Agree …</td><td>&quot;Neither Agree …</td><td>&quot;Somewhat Disag…</td><td>&quot;Somewhat Agree…</td><td>&quot;Somewhat Disag…</td><td>&quot;Somewhat Agree…</td><td>&quot;Somewhat Agree…</td><td>&quot;Neither Agree …</td><td>&quot;Somewhat Agree…</td><td>&quot;Somewhat Agree…</td><td>&quot;Somewhat Disag…</td><td>&quot;Neither Agree …</td><td>&quot;Somewhat Agree…</td><td>&quot;Neither Agree …</td><td>&quot;Somewhat Agree…</td></tr></tbody></table></div>"
            ]
          },
          "metadata": {},
          "execution_count": 21
        }
      ],
      "source": [
        "(survey\n",
        " .select(survey.columns >> cols.contains('.'))\n",
        " .head(2)\n",
        ")"
      ]
    },
    {
      "cell_type": "markdown",
      "id": "952fccb8",
      "metadata": {
        "id": "952fccb8"
      },
      "source": [
        "## `select` helper based position\n",
        "\n",
        "* `df.columns >> cols.between(start_col, end_col, inclusive=True)`\n",
        "* `df.columns >> cols.to(end_col)`\n",
        "* `df.columns >> cols.from_(start_col)`"
      ]
    },
    {
      "cell_type": "code",
      "execution_count": 22,
      "id": "ec3369e2",
      "metadata": {
        "scrolled": true,
        "id": "ec3369e2",
        "outputId": "fc6a2216-8ec9-4f5d-d178-0568481cea3a",
        "colab": {
          "base_uri": "https://localhost:8080/",
          "height": 161
        }
      },
      "outputs": [
        {
          "output_type": "execute_result",
          "data": {
            "text/plain": [
              "shape: (2, 4)\n",
              "┌────────────────┬───────────────────┬────────────────┬────────────────┐\n",
              "│ F1             ┆ F5                ┆ F2             ┆ F1.1           │\n",
              "│ ---            ┆ ---               ┆ ---            ┆ ---            │\n",
              "│ str            ┆ str               ┆ str            ┆ str            │\n",
              "╞════════════════╪═══════════════════╪════════════════╪════════════════╡\n",
              "│ Somewhat Agree ┆ Somewhat Disagree ┆ Somewhat Agree ┆ Somewhat Agree │\n",
              "│ Somewhat Agree ┆ Somewhat Disagree ┆ Somewhat Agree ┆ Somewhat Agree │\n",
              "└────────────────┴───────────────────┴────────────────┴────────────────┘"
            ],
            "text/html": [
              "<div><style>\n",
              ".dataframe > thead > tr,\n",
              ".dataframe > tbody > tr {\n",
              "  text-align: right;\n",
              "  white-space: pre-wrap;\n",
              "}\n",
              "</style>\n",
              "<small>shape: (2, 4)</small><table border=\"1\" class=\"dataframe\"><thead><tr><th>F1</th><th>F5</th><th>F2</th><th>F1.1</th></tr><tr><td>str</td><td>str</td><td>str</td><td>str</td></tr></thead><tbody><tr><td>&quot;Somewhat Agree…</td><td>&quot;Somewhat Disag…</td><td>&quot;Somewhat Agree…</td><td>&quot;Somewhat Agree…</td></tr><tr><td>&quot;Somewhat Agree…</td><td>&quot;Somewhat Disag…</td><td>&quot;Somewhat Agree…</td><td>&quot;Somewhat Agree…</td></tr></tbody></table></div>"
            ]
          },
          "metadata": {},
          "execution_count": 22
        }
      ],
      "source": [
        "(survey\n",
        " .select(survey.columns >> cols.between('F1', 'F1.1'))\n",
        " .head(2))"
      ]
    },
    {
      "cell_type": "code",
      "execution_count": 23,
      "id": "f13c2a46",
      "metadata": {
        "scrolled": true,
        "id": "f13c2a46",
        "outputId": "763d2d96-7968-46fd-e8c9-ebd1834bbbcd",
        "colab": {
          "base_uri": "https://localhost:8080/",
          "height": 161
        }
      },
      "outputs": [
        {
          "output_type": "execute_result",
          "data": {
            "text/plain": [
              "shape: (2, 2)\n",
              "┌───────────────────┬────────────────┐\n",
              "│ F5                ┆ F2             │\n",
              "│ ---               ┆ ---            │\n",
              "│ str               ┆ str            │\n",
              "╞═══════════════════╪════════════════╡\n",
              "│ Somewhat Disagree ┆ Somewhat Agree │\n",
              "│ Somewhat Disagree ┆ Somewhat Agree │\n",
              "└───────────────────┴────────────────┘"
            ],
            "text/html": [
              "<div><style>\n",
              ".dataframe > thead > tr,\n",
              ".dataframe > tbody > tr {\n",
              "  text-align: right;\n",
              "  white-space: pre-wrap;\n",
              "}\n",
              "</style>\n",
              "<small>shape: (2, 2)</small><table border=\"1\" class=\"dataframe\"><thead><tr><th>F5</th><th>F2</th></tr><tr><td>str</td><td>str</td></tr></thead><tbody><tr><td>&quot;Somewhat Disag…</td><td>&quot;Somewhat Agree…</td></tr><tr><td>&quot;Somewhat Disag…</td><td>&quot;Somewhat Agree…</td></tr></tbody></table></div>"
            ]
          },
          "metadata": {},
          "execution_count": 23
        }
      ],
      "source": [
        "(survey\n",
        " .select(survey.columns >> cols.between('F1', 'F1.1', inclusive=False))\n",
        " .head(2))"
      ]
    },
    {
      "cell_type": "code",
      "execution_count": 24,
      "id": "04cad2a3",
      "metadata": {
        "scrolled": true,
        "id": "04cad2a3",
        "outputId": "64ffc956-2a9b-4e28-b0d2-ebeb3eb1516e",
        "colab": {
          "base_uri": "https://localhost:8080/",
          "height": 161
        }
      },
      "outputs": [
        {
          "output_type": "execute_result",
          "data": {
            "text/plain": [
              "shape: (2, 3)\n",
              "┌────────────────┬────────────────────────────┬────────────────┐\n",
              "│ F5.7           ┆ F3.5                       ┆ F2.11          │\n",
              "│ ---            ┆ ---                        ┆ ---            │\n",
              "│ str            ┆ str                        ┆ str            │\n",
              "╞════════════════╪════════════════════════════╪════════════════╡\n",
              "│ Somewhat Agree ┆ Somewhat Agree             ┆ Somewhat Agree │\n",
              "│ Somewhat Agree ┆ Neither Agree nor Disagree ┆ Somewhat Agree │\n",
              "└────────────────┴────────────────────────────┴────────────────┘"
            ],
            "text/html": [
              "<div><style>\n",
              ".dataframe > thead > tr,\n",
              ".dataframe > tbody > tr {\n",
              "  text-align: right;\n",
              "  white-space: pre-wrap;\n",
              "}\n",
              "</style>\n",
              "<small>shape: (2, 3)</small><table border=\"1\" class=\"dataframe\"><thead><tr><th>F5.7</th><th>F3.5</th><th>F2.11</th></tr><tr><td>str</td><td>str</td><td>str</td></tr></thead><tbody><tr><td>&quot;Somewhat Agree…</td><td>&quot;Somewhat Agree…</td><td>&quot;Somewhat Agree…</td></tr><tr><td>&quot;Somewhat Agree…</td><td>&quot;Neither Agree …</td><td>&quot;Somewhat Agree…</td></tr></tbody></table></div>"
            ]
          },
          "metadata": {},
          "execution_count": 24
        }
      ],
      "source": [
        "(survey\n",
        " .select(survey.columns >> cols.from_('F5.7'))\n",
        " .head(2))"
      ]
    },
    {
      "cell_type": "code",
      "execution_count": 25,
      "id": "b782a53e",
      "metadata": {
        "scrolled": true,
        "id": "b782a53e",
        "outputId": "5ae77d53-aa38-43d9-df53-cd6df0b02513",
        "colab": {
          "base_uri": "https://localhost:8080/",
          "height": 161
        }
      },
      "outputs": [
        {
          "output_type": "execute_result",
          "data": {
            "text/plain": [
              "shape: (2, 5)\n",
              "┌─────┬────────────────┬───────────────────┬────────────────┬────────────────┐\n",
              "│ ID  ┆ F1             ┆ F5                ┆ F2             ┆ F1.1           │\n",
              "│ --- ┆ ---            ┆ ---               ┆ ---            ┆ ---            │\n",
              "│ i64 ┆ str            ┆ str               ┆ str            ┆ str            │\n",
              "╞═════╪════════════════╪═══════════════════╪════════════════╪════════════════╡\n",
              "│ 1   ┆ Somewhat Agree ┆ Somewhat Disagree ┆ Somewhat Agree ┆ Somewhat Agree │\n",
              "│ 2   ┆ Somewhat Agree ┆ Somewhat Disagree ┆ Somewhat Agree ┆ Somewhat Agree │\n",
              "└─────┴────────────────┴───────────────────┴────────────────┴────────────────┘"
            ],
            "text/html": [
              "<div><style>\n",
              ".dataframe > thead > tr,\n",
              ".dataframe > tbody > tr {\n",
              "  text-align: right;\n",
              "  white-space: pre-wrap;\n",
              "}\n",
              "</style>\n",
              "<small>shape: (2, 5)</small><table border=\"1\" class=\"dataframe\"><thead><tr><th>ID</th><th>F1</th><th>F5</th><th>F2</th><th>F1.1</th></tr><tr><td>i64</td><td>str</td><td>str</td><td>str</td><td>str</td></tr></thead><tbody><tr><td>1</td><td>&quot;Somewhat Agree…</td><td>&quot;Somewhat Disag…</td><td>&quot;Somewhat Agree…</td><td>&quot;Somewhat Agree…</td></tr><tr><td>2</td><td>&quot;Somewhat Agree…</td><td>&quot;Somewhat Disag…</td><td>&quot;Somewhat Agree…</td><td>&quot;Somewhat Agree…</td></tr></tbody></table></div>"
            ]
          },
          "metadata": {},
          "execution_count": 25
        }
      ],
      "source": [
        "(survey\n",
        " .select(survey.columns >> cols.to('F1.1'))\n",
        " .head(2))"
      ]
    },
    {
      "cell_type": "markdown",
      "id": "d317098c",
      "metadata": {
        "id": "d317098c"
      },
      "source": [
        "#### Composing helpers in a `list`\n",
        "\n",
        "You can combine results using addition (note the need `(...)`)"
      ]
    },
    {
      "cell_type": "code",
      "execution_count": 26,
      "id": "c1b23af2",
      "metadata": {
        "scrolled": true,
        "id": "c1b23af2",
        "outputId": "4af90223-ba26-4df2-9e62-df17914df45b",
        "colab": {
          "base_uri": "https://localhost:8080/",
          "height": 196
        }
      },
      "outputs": [
        {
          "output_type": "execute_result",
          "data": {
            "text/plain": [
              "shape: (2, 20)\n",
              "┌───────────┬───────────┬───────────┬───────────┬───┬───────────┬───────────┬───────────┬──────────┐\n",
              "│ F1        ┆ F1.1      ┆ F1.2      ┆ F1.3      ┆ … ┆ F2.8      ┆ F2.9      ┆ F2.10     ┆ F2.11    │\n",
              "│ ---       ┆ ---       ┆ ---       ┆ ---       ┆   ┆ ---       ┆ ---       ┆ ---       ┆ ---      │\n",
              "│ str       ┆ str       ┆ str       ┆ str       ┆   ┆ str       ┆ str       ┆ str       ┆ str      │\n",
              "╞═══════════╪═══════════╪═══════════╪═══════════╪═══╪═══════════╪═══════════╪═══════════╪══════════╡\n",
              "│ Somewhat  ┆ Somewhat  ┆ Somewhat  ┆ Somewhat  ┆ … ┆ Somewhat  ┆ Somewhat  ┆ Somewhat  ┆ Somewhat │\n",
              "│ Agree     ┆ Agree     ┆ Agree     ┆ Agree     ┆   ┆ Agree     ┆ Agree     ┆ Agree     ┆ Agree    │\n",
              "│ Somewhat  ┆ Somewhat  ┆ Somewhat  ┆ Somewhat  ┆ … ┆ Somewhat  ┆ Somewhat  ┆ Somewhat  ┆ Somewhat │\n",
              "│ Agree     ┆ Agree     ┆ Agree     ┆ Agree     ┆   ┆ Agree     ┆ Agree     ┆ Agree     ┆ Agree    │\n",
              "└───────────┴───────────┴───────────┴───────────┴───┴───────────┴───────────┴───────────┴──────────┘"
            ],
            "text/html": [
              "<div><style>\n",
              ".dataframe > thead > tr,\n",
              ".dataframe > tbody > tr {\n",
              "  text-align: right;\n",
              "  white-space: pre-wrap;\n",
              "}\n",
              "</style>\n",
              "<small>shape: (2, 20)</small><table border=\"1\" class=\"dataframe\"><thead><tr><th>F1</th><th>F1.1</th><th>F1.2</th><th>F1.3</th><th>F1.4</th><th>F1.5</th><th>F1.6</th><th>F1.7</th><th>F2</th><th>F2.1</th><th>F2.2</th><th>F2.3</th><th>F2.4</th><th>F2.5</th><th>F2.6</th><th>F2.7</th><th>F2.8</th><th>F2.9</th><th>F2.10</th><th>F2.11</th></tr><tr><td>str</td><td>str</td><td>str</td><td>str</td><td>str</td><td>str</td><td>str</td><td>str</td><td>str</td><td>str</td><td>str</td><td>str</td><td>str</td><td>str</td><td>str</td><td>str</td><td>str</td><td>str</td><td>str</td><td>str</td></tr></thead><tbody><tr><td>&quot;Somewhat Agree…</td><td>&quot;Somewhat Agree…</td><td>&quot;Somewhat Agree…</td><td>&quot;Somewhat Agree…</td><td>&quot;Neither Agree …</td><td>&quot;Somewhat Agree…</td><td>&quot;Somewhat Agree…</td><td>&quot;Somewhat Agree…</td><td>&quot;Somewhat Agree…</td><td>&quot;Somewhat Agree…</td><td>&quot;Somewhat Agree…</td><td>&quot;Somewhat Agree…</td><td>&quot;Somewhat Agree…</td><td>&quot;Somewhat Agree…</td><td>&quot;Somewhat Agree…</td><td>&quot;Somewhat Agree…</td><td>&quot;Somewhat Agree…</td><td>&quot;Somewhat Agree…</td><td>&quot;Somewhat Agree…</td><td>&quot;Somewhat Agree…</td></tr><tr><td>&quot;Somewhat Agree…</td><td>&quot;Somewhat Agree…</td><td>&quot;Somewhat Agree…</td><td>&quot;Somewhat Agree…</td><td>&quot;Somewhat Agree…</td><td>&quot;Neither Agree …</td><td>&quot;Somewhat Agree…</td><td>&quot;Somewhat Agree…</td><td>&quot;Somewhat Agree…</td><td>&quot;Somewhat Agree…</td><td>&quot;Neither Agree …</td><td>&quot;Somewhat Agree…</td><td>&quot;Somewhat Agree…</td><td>&quot;Somewhat Agree…</td><td>&quot;Somewhat Agree…</td><td>&quot;Somewhat Agree…</td><td>&quot;Somewhat Agree…</td><td>&quot;Somewhat Agree…</td><td>&quot;Somewhat Agree…</td><td>&quot;Somewhat Agree…</td></tr></tbody></table></div>"
            ]
          },
          "metadata": {},
          "execution_count": 26
        }
      ],
      "source": [
        "(survey\n",
        " .select( (survey.columns >> cols.startswith('F1'))\n",
        "          + (survey.columns >> cols.startswith('F2'))\n",
        "         )\n",
        " .head(2))"
      ]
    },
    {
      "cell_type": "markdown",
      "id": "7fdc688b",
      "metadata": {
        "id": "7fdc688b"
      },
      "source": [
        "#### Beware of duplicate columns!\n",
        "\n",
        "Unfortunately, duplicate columns will raise an exception."
      ]
    },
    {
      "cell_type": "code",
      "execution_count": 27,
      "id": "13bb57bb",
      "metadata": {
        "scrolled": true,
        "id": "13bb57bb",
        "outputId": "0e5eff5e-50de-45b4-a89c-83bf0ec9d327",
        "colab": {
          "base_uri": "https://localhost:8080/",
          "height": 383
        }
      },
      "outputs": [
        {
          "output_type": "error",
          "ename": "DuplicateError",
          "evalue": "column with name 'F1.1' has more than one occurrences",
          "traceback": [
            "\u001b[0;31m---------------------------------------------------------------------------\u001b[0m",
            "\u001b[0;31mDuplicateError\u001b[0m                            Traceback (most recent call last)",
            "\u001b[0;32m<ipython-input-27-86931d970093>\u001b[0m in \u001b[0;36m<cell line: 1>\u001b[0;34m()\u001b[0m\n\u001b[1;32m      1\u001b[0m (survey\n\u001b[0;32m----> 2\u001b[0;31m  .select( (survey.columns >> cols.startswith('F1'))\n\u001b[0m\u001b[1;32m      3\u001b[0m           \u001b[0;34m+\u001b[0m \u001b[0;34m(\u001b[0m\u001b[0msurvey\u001b[0m\u001b[0;34m.\u001b[0m\u001b[0mcolumns\u001b[0m \u001b[0;34m>>\u001b[0m \u001b[0mcols\u001b[0m\u001b[0;34m.\u001b[0m\u001b[0mcontains\u001b[0m\u001b[0;34m(\u001b[0m\u001b[0;34m'.'\u001b[0m\u001b[0;34m)\u001b[0m\u001b[0;34m)\u001b[0m\u001b[0;34m\u001b[0m\u001b[0;34m\u001b[0m\u001b[0m\n\u001b[1;32m      4\u001b[0m          )\n\u001b[1;32m      5\u001b[0m  .head(2))\n",
            "\u001b[0;32m/usr/local/lib/python3.10/dist-packages/polars/dataframe/frame.py\u001b[0m in \u001b[0;36mselect\u001b[0;34m(self, *exprs, **named_exprs)\u001b[0m\n\u001b[1;32m   8006\u001b[0m \u001b[0;34m\u001b[0m\u001b[0m\n\u001b[1;32m   8007\u001b[0m         \"\"\"\n\u001b[0;32m-> 8008\u001b[0;31m         \u001b[0;32mreturn\u001b[0m \u001b[0mself\u001b[0m\u001b[0;34m.\u001b[0m\u001b[0mlazy\u001b[0m\u001b[0;34m(\u001b[0m\u001b[0;34m)\u001b[0m\u001b[0;34m.\u001b[0m\u001b[0mselect\u001b[0m\u001b[0;34m(\u001b[0m\u001b[0;34m*\u001b[0m\u001b[0mexprs\u001b[0m\u001b[0;34m,\u001b[0m \u001b[0;34m**\u001b[0m\u001b[0mnamed_exprs\u001b[0m\u001b[0;34m)\u001b[0m\u001b[0;34m.\u001b[0m\u001b[0mcollect\u001b[0m\u001b[0;34m(\u001b[0m\u001b[0m_eager\u001b[0m\u001b[0;34m=\u001b[0m\u001b[0;32mTrue\u001b[0m\u001b[0;34m)\u001b[0m\u001b[0;34m\u001b[0m\u001b[0;34m\u001b[0m\u001b[0m\n\u001b[0m\u001b[1;32m   8009\u001b[0m \u001b[0;34m\u001b[0m\u001b[0m\n\u001b[1;32m   8010\u001b[0m     def select_seq(\n",
            "\u001b[0;32m/usr/local/lib/python3.10/dist-packages/polars/lazyframe/frame.py\u001b[0m in \u001b[0;36mcollect\u001b[0;34m(self, type_coercion, predicate_pushdown, projection_pushdown, simplify_expression, slice_pushdown, comm_subplan_elim, comm_subexpr_elim, no_optimization, streaming, _eager)\u001b[0m\n\u001b[1;32m   1704\u001b[0m             \u001b[0m_eager\u001b[0m\u001b[0;34m,\u001b[0m\u001b[0;34m\u001b[0m\u001b[0;34m\u001b[0m\u001b[0m\n\u001b[1;32m   1705\u001b[0m         )\n\u001b[0;32m-> 1706\u001b[0;31m         \u001b[0;32mreturn\u001b[0m \u001b[0mwrap_df\u001b[0m\u001b[0;34m(\u001b[0m\u001b[0mldf\u001b[0m\u001b[0;34m.\u001b[0m\u001b[0mcollect\u001b[0m\u001b[0;34m(\u001b[0m\u001b[0;34m)\u001b[0m\u001b[0;34m)\u001b[0m\u001b[0;34m\u001b[0m\u001b[0;34m\u001b[0m\u001b[0m\n\u001b[0m\u001b[1;32m   1707\u001b[0m \u001b[0;34m\u001b[0m\u001b[0m\n\u001b[1;32m   1708\u001b[0m     \u001b[0;34m@\u001b[0m\u001b[0moverload\u001b[0m\u001b[0;34m\u001b[0m\u001b[0;34m\u001b[0m\u001b[0m\n",
            "\u001b[0;31mDuplicateError\u001b[0m: column with name 'F1.1' has more than one occurrences"
          ]
        }
      ],
      "source": [
        "(survey\n",
        " .select( (survey.columns >> cols.startswith('F1'))\n",
        "          + (survey.columns >> cols.contains('.'))\n",
        "         )\n",
        " .head(2))"
      ]
    },
    {
      "cell_type": "markdown",
      "id": "bbedfad1",
      "metadata": {
        "id": "bbedfad1"
      },
      "source": [
        "## <font color=\"red\"> Exercise 6.3.1 </font>\n",
        "\n",
        "Use the `select` helper functions to create a table that contains all `F2`, `F3`, or `F5` questions.  Perform this task in two ways.\n",
        "\n",
        "1. Using regular expressions.\n",
        "2. By adding the results from helper functions."
      ]
    },
    {
      "cell_type": "code",
      "execution_count": null,
      "id": "e0b93208",
      "metadata": {
        "id": "e0b93208"
      },
      "outputs": [],
      "source": [
        "# Your code here"
      ]
    }
  ],
  "metadata": {
    "kernelspec": {
      "display_name": "Python 3 (ipykernel)",
      "language": "python",
      "name": "python3"
    },
    "language_info": {
      "codemirror_mode": {
        "name": "ipython",
        "version": 3
      },
      "file_extension": ".py",
      "mimetype": "text/x-python",
      "name": "python",
      "nbconvert_exporter": "python",
      "pygments_lexer": "ipython3",
      "version": "3.9.12"
    },
    "nteract": {
      "version": "nteract-on-jupyter@2.0.3"
    },
    "varInspector": {
      "cols": {
        "lenName": 16,
        "lenType": 16,
        "lenVar": 40
      },
      "kernels_config": {
        "python": {
          "delete_cmd_postfix": "",
          "delete_cmd_prefix": "del ",
          "library": "var_list.py",
          "varRefreshCmd": "print(var_dic_list())"
        },
        "r": {
          "delete_cmd_postfix": ") ",
          "delete_cmd_prefix": "rm(",
          "library": "var_list.r",
          "varRefreshCmd": "cat(var_dic_list()) "
        }
      },
      "types_to_exclude": [
        "module",
        "function",
        "builtin_function_or_method",
        "instance",
        "_Feature"
      ],
      "window_display": false
    },
    "colab": {
      "provenance": [],
      "include_colab_link": true
    }
  },
  "nbformat": 4,
  "nbformat_minor": 5
}