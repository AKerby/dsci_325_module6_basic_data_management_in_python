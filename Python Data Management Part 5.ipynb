{
  "cells": [
    {
      "cell_type": "markdown",
      "metadata": {
        "id": "view-in-github",
        "colab_type": "text"
      },
      "source": [
        "<a href=\"https://colab.research.google.com/github/AKerby/dsci_325_module6_basic_data_management_in_python/blob/main/Python%20Data%20Management%20Part%205.ipynb\" target=\"_parent\"><img src=\"https://colab.research.google.com/assets/colab-badge.svg\" alt=\"Open In Colab\"/></a>"
      ]
    },
    {
      "cell_type": "markdown",
      "metadata": {
        "id": "BGFYfGlqOswz"
      },
      "source": [
        "# Conditional Expressions"
      ]
    },
    {
      "cell_type": "code",
      "execution_count": 1,
      "metadata": {
        "id": "NK_S0iRPOsw0"
      },
      "outputs": [],
      "source": [
        "import polars as pl\n",
        "pl.Config.with_columns_kwargs = True"
      ]
    },
    {
      "cell_type": "markdown",
      "metadata": {
        "id": "yd7CUhNDOsw0"
      },
      "source": [
        "## Data sets\n",
        "\n",
        "We will be using two of the data sets provided by the Museam of Modern Art (MoMA) in this lecture.  Make sure that you have downloaded each repository.  [Download Instructions](./get_MOMA_data.ipynb)"
      ]
    },
    {
      "cell_type": "markdown",
      "metadata": {
        "id": "5--WetSLOsw0"
      },
      "source": [
        "#### MoMA Artists"
      ]
    },
    {
      "cell_type": "code",
      "execution_count": 2,
      "metadata": {
        "id": "YkI1xqhVOsw1",
        "outputId": "9b7e470d-8254-4c31-ad4b-a72c823533bf",
        "colab": {
          "base_uri": "https://localhost:8080/",
          "height": 161
        }
      },
      "outputs": [
        {
          "output_type": "execute_result",
          "data": {
            "text/plain": [
              "shape: (2, 9)\n",
              "┌─────────────┬─────────────┬─────────────┬────────────┬───┬───────────┬─────────┬──────────┬──────┐\n",
              "│ Constituent ┆ DisplayName ┆ ArtistBio   ┆ Nationalit ┆ … ┆ BeginDate ┆ EndDate ┆ Wiki QID ┆ ULAN │\n",
              "│ ID          ┆ ---         ┆ ---         ┆ y          ┆   ┆ ---       ┆ ---     ┆ ---      ┆ ---  │\n",
              "│ ---         ┆ str         ┆ str         ┆ ---        ┆   ┆ i64       ┆ i64     ┆ str      ┆ i64  │\n",
              "│ i64         ┆             ┆             ┆ str        ┆   ┆           ┆         ┆          ┆      │\n",
              "╞═════════════╪═════════════╪═════════════╪════════════╪═══╪═══════════╪═════════╪══════════╪══════╡\n",
              "│ 1           ┆ Robert      ┆ American,   ┆ American   ┆ … ┆ 1930      ┆ 1992    ┆ null     ┆ null │\n",
              "│             ┆ Arneson     ┆ 1930–1992   ┆            ┆   ┆           ┆         ┆          ┆      │\n",
              "│ 2           ┆ Doroteo     ┆ Spanish,    ┆ Spanish    ┆ … ┆ 1936      ┆ 0       ┆ null     ┆ null │\n",
              "│             ┆ Arnaiz      ┆ born 1936   ┆            ┆   ┆           ┆         ┆          ┆      │\n",
              "└─────────────┴─────────────┴─────────────┴────────────┴───┴───────────┴─────────┴──────────┴──────┘"
            ],
            "text/html": [
              "<div><style>\n",
              ".dataframe > thead > tr,\n",
              ".dataframe > tbody > tr {\n",
              "  text-align: right;\n",
              "  white-space: pre-wrap;\n",
              "}\n",
              "</style>\n",
              "<small>shape: (2, 9)</small><table border=\"1\" class=\"dataframe\"><thead><tr><th>ConstituentID</th><th>DisplayName</th><th>ArtistBio</th><th>Nationality</th><th>Gender</th><th>BeginDate</th><th>EndDate</th><th>Wiki QID</th><th>ULAN</th></tr><tr><td>i64</td><td>str</td><td>str</td><td>str</td><td>str</td><td>i64</td><td>i64</td><td>str</td><td>i64</td></tr></thead><tbody><tr><td>1</td><td>&quot;Robert Arneson…</td><td>&quot;American, 1930…</td><td>&quot;American&quot;</td><td>&quot;Male&quot;</td><td>1930</td><td>1992</td><td>null</td><td>null</td></tr><tr><td>2</td><td>&quot;Doroteo Arnaiz…</td><td>&quot;Spanish, born …</td><td>&quot;Spanish&quot;</td><td>&quot;Male&quot;</td><td>1936</td><td>0</td><td>null</td><td>null</td></tr></tbody></table></div>"
            ]
          },
          "metadata": {},
          "execution_count": 2
        }
      ],
      "source": [
        "url = \"https://github.com/AKerby/dsci_325_module6_basic_data_management_in_python/raw/main/sample_data/Artists.csv\"\n",
        "artists = pl.read_csv(url)\n",
        "artists.head(2)"
      ]
    },
    {
      "cell_type": "markdown",
      "metadata": {
        "id": "ejLsaj68Osw2"
      },
      "source": [
        "#### MoMA Artwork"
      ]
    },
    {
      "cell_type": "code",
      "execution_count": 3,
      "metadata": {
        "id": "xp3lHUFsOsw3",
        "outputId": "1ca7c1b8-d053-40db-89ef-98bf9370a1d7",
        "colab": {
          "base_uri": "https://localhost:8080/",
          "height": 302
        }
      },
      "outputs": [
        {
          "output_type": "execute_result",
          "data": {
            "text/plain": [
              "shape: (2, 29)\n",
              "┌───────────┬───────────┬───────────┬───────────┬───┬───────────┬───────────┬───────────┬──────────┐\n",
              "│ Title     ┆ Artist    ┆ Constitue ┆ ArtistBio ┆ … ┆ Weight    ┆ Width     ┆ Seat      ┆ Duration │\n",
              "│ ---       ┆ ---       ┆ ntID      ┆ ---       ┆   ┆ (kg)      ┆ (cm)      ┆ Height    ┆ (sec.)   │\n",
              "│ str       ┆ str       ┆ ---       ┆ str       ┆   ┆ ---       ┆ ---       ┆ (cm)      ┆ ---      │\n",
              "│           ┆           ┆ str       ┆           ┆   ┆ str       ┆ f64       ┆ ---       ┆ str      │\n",
              "│           ┆           ┆           ┆           ┆   ┆           ┆           ┆ str       ┆          │\n",
              "╞═══════════╪═══════════╪═══════════╪═══════════╪═══╪═══════════╪═══════════╪═══════════╪══════════╡\n",
              "│ Ferdinand ┆ Otto      ┆ 6210      ┆ (Austrian ┆ … ┆ null      ┆ 168.9     ┆ null      ┆ null     │\n",
              "│ sbrücke   ┆ Wagner    ┆           ┆ , 1841–19 ┆   ┆           ┆           ┆           ┆          │\n",
              "│ Project,  ┆           ┆           ┆ 18)       ┆   ┆           ┆           ┆           ┆          │\n",
              "│ Vienna…   ┆           ┆           ┆           ┆   ┆           ┆           ┆           ┆          │\n",
              "│ City of   ┆ Christian ┆ 7470      ┆ (French,  ┆ … ┆ null      ┆ 29.8451   ┆ null      ┆ null     │\n",
              "│ Music,    ┆ de Portza ┆           ┆ born      ┆   ┆           ┆           ┆           ┆          │\n",
              "│ National  ┆ mparc     ┆           ┆ 1944)     ┆   ┆           ┆           ┆           ┆          │\n",
              "│ Superior… ┆           ┆           ┆           ┆   ┆           ┆           ┆           ┆          │\n",
              "└───────────┴───────────┴───────────┴───────────┴───┴───────────┴───────────┴───────────┴──────────┘"
            ],
            "text/html": [
              "<div><style>\n",
              ".dataframe > thead > tr,\n",
              ".dataframe > tbody > tr {\n",
              "  text-align: right;\n",
              "  white-space: pre-wrap;\n",
              "}\n",
              "</style>\n",
              "<small>shape: (2, 29)</small><table border=\"1\" class=\"dataframe\"><thead><tr><th>Title</th><th>Artist</th><th>ConstituentID</th><th>ArtistBio</th><th>Nationality</th><th>BeginDate</th><th>EndDate</th><th>Gender</th><th>Date</th><th>Medium</th><th>Dimensions</th><th>CreditLine</th><th>AccessionNumber</th><th>Classification</th><th>Department</th><th>DateAcquired</th><th>Cataloged</th><th>ObjectID</th><th>URL</th><th>ThumbnailURL</th><th>Circumference (cm)</th><th>Depth (cm)</th><th>Diameter (cm)</th><th>Height (cm)</th><th>Length (cm)</th><th>Weight (kg)</th><th>Width (cm)</th><th>Seat Height (cm)</th><th>Duration (sec.)</th></tr><tr><td>str</td><td>str</td><td>str</td><td>str</td><td>str</td><td>str</td><td>str</td><td>str</td><td>str</td><td>str</td><td>str</td><td>str</td><td>str</td><td>str</td><td>str</td><td>str</td><td>str</td><td>i64</td><td>str</td><td>str</td><td>str</td><td>str</td><td>str</td><td>f64</td><td>str</td><td>str</td><td>f64</td><td>str</td><td>str</td></tr></thead><tbody><tr><td>&quot;Ferdinandsbrüc…</td><td>&quot;Otto Wagner&quot;</td><td>&quot;6210&quot;</td><td>&quot;(Austrian, 184…</td><td>&quot;(Austrian)&quot;</td><td>&quot;(1841)&quot;</td><td>&quot;(1918)&quot;</td><td>&quot;(Male)&quot;</td><td>&quot;1896&quot;</td><td>&quot;Ink and cut-an…</td><td>&quot;19 1/8 x 66 1/…</td><td>&quot;Fractional and…</td><td>&quot;885.1996&quot;</td><td>&quot;Architecture&quot;</td><td>&quot;Architecture &amp;…</td><td>&quot;1996-04-09&quot;</td><td>&quot;Y&quot;</td><td>2</td><td>&quot;http://www.mom…</td><td>&quot;http://www.mom…</td><td>null</td><td>null</td><td>null</td><td>48.6</td><td>null</td><td>null</td><td>168.9</td><td>null</td><td>null</td></tr><tr><td>&quot;City of Music,…</td><td>&quot;Christian de P…</td><td>&quot;7470&quot;</td><td>&quot;(French, born …</td><td>&quot;(French)&quot;</td><td>&quot;(1944)&quot;</td><td>&quot;(0)&quot;</td><td>&quot;(Male)&quot;</td><td>&quot;1987&quot;</td><td>&quot;Paint and colo…</td><td>&quot;16 x 11 3/4&quot; (…</td><td>&quot;Gift of the ar…</td><td>&quot;1.1995&quot;</td><td>&quot;Architecture&quot;</td><td>&quot;Architecture &amp;…</td><td>&quot;1995-01-17&quot;</td><td>&quot;Y&quot;</td><td>3</td><td>&quot;http://www.mom…</td><td>&quot;http://www.mom…</td><td>null</td><td>null</td><td>null</td><td>40.6401</td><td>null</td><td>null</td><td>29.8451</td><td>null</td><td>null</td></tr></tbody></table></div>"
            ]
          },
          "metadata": {},
          "execution_count": 3
        }
      ],
      "source": [
        "url = \"https://github.com/AKerby/dsci_325_module6_basic_data_management_in_python/raw/main/sample_data/Artworks.csv\"\n",
        "artwork = pl.read_csv(url)\n",
        "artwork.head(2)"
      ]
    },
    {
      "cell_type": "markdown",
      "metadata": {
        "id": "oLQ-KCcuOsw3"
      },
      "source": [
        "## Review - CASE WHEN\n",
        "\n",
        "Recall that the `CASE WHEN` expression to condition results on some boolean condition(s).\n",
        "\n",
        "```{SQL}\n",
        "SELECT CASE\n",
        "            WHEN Nationality == 'American'\n",
        "            THEN 'Yes'\n",
        "            ELSE 'No'\n",
        "       END AS American\n",
        "FROM Artists\n",
        "```"
      ]
    },
    {
      "cell_type": "markdown",
      "metadata": {
        "id": "WczU_CftOsw4"
      },
      "source": [
        "## Conditional expressions in `polars`\n",
        "\n",
        "To perform a `CASE WHEN` in `polars` with a single dot-chain by\n",
        "* Start with `pl.when(...).then(...)`\n",
        "* Add any number of additional `.when(...).then(...)` to the dot-chain\n",
        "* Add a `.otherwise(...)` to catch all remaining cases."
      ]
    },
    {
      "cell_type": "markdown",
      "metadata": {
        "id": "w89mxy2-Osw4"
      },
      "source": [
        "### Example"
      ]
    },
    {
      "cell_type": "code",
      "execution_count": 4,
      "metadata": {
        "id": "yOEUKILcOsw4",
        "outputId": "ad815c53-a3d6-4f07-b91c-df3bbdaa9971",
        "colab": {
          "base_uri": "https://localhost:8080/",
          "height": 255
        }
      },
      "outputs": [
        {
          "output_type": "execute_result",
          "data": {
            "text/plain": [
              "shape: (5, 2)\n",
              "┌─────┬─────┐\n",
              "│ cat ┆ val │\n",
              "│ --- ┆ --- │\n",
              "│ str ┆ i64 │\n",
              "╞═════╪═════╡\n",
              "│ a   ┆ 1   │\n",
              "│ b   ┆ 1   │\n",
              "│ b   ┆ 2   │\n",
              "│ c   ┆ 1   │\n",
              "│ c   ┆ 2   │\n",
              "└─────┴─────┘"
            ],
            "text/html": [
              "<div><style>\n",
              ".dataframe > thead > tr,\n",
              ".dataframe > tbody > tr {\n",
              "  text-align: right;\n",
              "  white-space: pre-wrap;\n",
              "}\n",
              "</style>\n",
              "<small>shape: (5, 2)</small><table border=\"1\" class=\"dataframe\"><thead><tr><th>cat</th><th>val</th></tr><tr><td>str</td><td>i64</td></tr></thead><tbody><tr><td>&quot;a&quot;</td><td>1</td></tr><tr><td>&quot;b&quot;</td><td>1</td></tr><tr><td>&quot;b&quot;</td><td>2</td></tr><tr><td>&quot;c&quot;</td><td>1</td></tr><tr><td>&quot;c&quot;</td><td>2</td></tr></tbody></table></div>"
            ]
          },
          "metadata": {},
          "execution_count": 4
        }
      ],
      "source": [
        "df = pl.DataFrame({'cat':['a','b','b','c','c'],\n",
        "                   'val':[ 1,  1,  2,  1, 2]})\n",
        "df"
      ]
    },
    {
      "cell_type": "markdown",
      "metadata": {
        "id": "Q1qG4nq3Osw4"
      },
      "source": [
        "#### `case_when` with one predicate pair\n",
        "\n",
        "Unmatched values are `null`"
      ]
    },
    {
      "cell_type": "code",
      "execution_count": 6,
      "metadata": {
        "id": "ILsLrK35Osw5",
        "outputId": "62f8fcb7-8bdf-432a-8f58-12afbe9cbfef",
        "colab": {
          "base_uri": "https://localhost:8080/",
          "height": 255
        }
      },
      "outputs": [
        {
          "output_type": "execute_result",
          "data": {
            "text/plain": [
              "shape: (5, 3)\n",
              "┌─────┬─────┬──────┐\n",
              "│ cat ┆ val ┆ new  │\n",
              "│ --- ┆ --- ┆ ---  │\n",
              "│ str ┆ i64 ┆ i64  │\n",
              "╞═════╪═════╪══════╡\n",
              "│ a   ┆ 1   ┆ 2    │\n",
              "│ b   ┆ 1   ┆ null │\n",
              "│ b   ┆ 2   ┆ null │\n",
              "│ c   ┆ 1   ┆ null │\n",
              "│ c   ┆ 2   ┆ null │\n",
              "└─────┴─────┴──────┘"
            ],
            "text/html": [
              "<div><style>\n",
              ".dataframe > thead > tr,\n",
              ".dataframe > tbody > tr {\n",
              "  text-align: right;\n",
              "  white-space: pre-wrap;\n",
              "}\n",
              "</style>\n",
              "<small>shape: (5, 3)</small><table border=\"1\" class=\"dataframe\"><thead><tr><th>cat</th><th>val</th><th>new</th></tr><tr><td>str</td><td>i64</td><td>i64</td></tr></thead><tbody><tr><td>&quot;a&quot;</td><td>1</td><td>2</td></tr><tr><td>&quot;b&quot;</td><td>1</td><td>null</td></tr><tr><td>&quot;b&quot;</td><td>2</td><td>null</td></tr><tr><td>&quot;c&quot;</td><td>1</td><td>null</td></tr><tr><td>&quot;c&quot;</td><td>2</td><td>null</td></tr></tbody></table></div>"
            ]
          },
          "metadata": {},
          "execution_count": 6
        }
      ],
      "source": [
        "(df\n",
        " .with_columns(new = pl.when(pl.col('cat') == 'a')\n",
        "                       .then(pl.col('val') + 1)\n",
        "              )\n",
        ")"
      ]
    },
    {
      "cell_type": "markdown",
      "metadata": {
        "id": "Ty9dhkXnOsw5"
      },
      "source": [
        "#### Two WHEN/THEN clauses\n",
        "\n",
        "Note that the first matching predicate is applied"
      ]
    },
    {
      "cell_type": "code",
      "execution_count": 7,
      "metadata": {
        "id": "nopnypb3Osw6",
        "outputId": "11f799c1-6f34-46a1-bff3-eff3ee6a5a35",
        "colab": {
          "base_uri": "https://localhost:8080/",
          "height": 255
        }
      },
      "outputs": [
        {
          "output_type": "execute_result",
          "data": {
            "text/plain": [
              "shape: (5, 3)\n",
              "┌─────┬─────┬─────┐\n",
              "│ cat ┆ val ┆ new │\n",
              "│ --- ┆ --- ┆ --- │\n",
              "│ str ┆ i64 ┆ i64 │\n",
              "╞═════╪═════╪═════╡\n",
              "│ a   ┆ 1   ┆ 2   │\n",
              "│ b   ┆ 1   ┆ 11  │\n",
              "│ b   ┆ 2   ┆ 12  │\n",
              "│ c   ┆ 1   ┆ 100 │\n",
              "│ c   ┆ 2   ┆ 100 │\n",
              "└─────┴─────┴─────┘"
            ],
            "text/html": [
              "<div><style>\n",
              ".dataframe > thead > tr,\n",
              ".dataframe > tbody > tr {\n",
              "  text-align: right;\n",
              "  white-space: pre-wrap;\n",
              "}\n",
              "</style>\n",
              "<small>shape: (5, 3)</small><table border=\"1\" class=\"dataframe\"><thead><tr><th>cat</th><th>val</th><th>new</th></tr><tr><td>str</td><td>i64</td><td>i64</td></tr></thead><tbody><tr><td>&quot;a&quot;</td><td>1</td><td>2</td></tr><tr><td>&quot;b&quot;</td><td>1</td><td>11</td></tr><tr><td>&quot;b&quot;</td><td>2</td><td>12</td></tr><tr><td>&quot;c&quot;</td><td>1</td><td>100</td></tr><tr><td>&quot;c&quot;</td><td>2</td><td>100</td></tr></tbody></table></div>"
            ]
          },
          "metadata": {},
          "execution_count": 7
        }
      ],
      "source": [
        "(df\n",
        " .with_columns(new = pl.when(pl.col('cat') == 'a')\n",
        "                       .then(pl.col('val') + 1)\n",
        "                       .when(pl.col('cat') == 'b')\n",
        "                       .then(pl.col('val') + 10)\n",
        "\n",
        "                       .when(pl.col('cat') == 'c')\n",
        "                       .then(pl.lit(100))\n",
        "              )\n",
        ")"
      ]
    },
    {
      "cell_type": "markdown",
      "metadata": {
        "id": "Vf45hEF7Osw7"
      },
      "source": [
        "#### Adding an else with `otherwise`"
      ]
    },
    {
      "cell_type": "code",
      "execution_count": 10,
      "metadata": {
        "id": "5QPAPNl7Osw7",
        "outputId": "e1989988-7738-4466-c468-f3d2c11d9562",
        "colab": {
          "base_uri": "https://localhost:8080/",
          "height": 255
        }
      },
      "outputs": [
        {
          "output_type": "execute_result",
          "data": {
            "text/plain": [
              "shape: (5, 3)\n",
              "┌─────┬─────┬─────┐\n",
              "│ cat ┆ val ┆ new │\n",
              "│ --- ┆ --- ┆ --- │\n",
              "│ str ┆ i64 ┆ i64 │\n",
              "╞═════╪═════╪═════╡\n",
              "│ a   ┆ 1   ┆ 2   │\n",
              "│ b   ┆ 1   ┆ 11  │\n",
              "│ b   ┆ 2   ┆ 12  │\n",
              "│ c   ┆ 1   ┆ 1   │\n",
              "│ c   ┆ 2   ┆ 2   │\n",
              "└─────┴─────┴─────┘"
            ],
            "text/html": [
              "<div><style>\n",
              ".dataframe > thead > tr,\n",
              ".dataframe > tbody > tr {\n",
              "  text-align: right;\n",
              "  white-space: pre-wrap;\n",
              "}\n",
              "</style>\n",
              "<small>shape: (5, 3)</small><table border=\"1\" class=\"dataframe\"><thead><tr><th>cat</th><th>val</th><th>new</th></tr><tr><td>str</td><td>i64</td><td>i64</td></tr></thead><tbody><tr><td>&quot;a&quot;</td><td>1</td><td>2</td></tr><tr><td>&quot;b&quot;</td><td>1</td><td>11</td></tr><tr><td>&quot;b&quot;</td><td>2</td><td>12</td></tr><tr><td>&quot;c&quot;</td><td>1</td><td>1</td></tr><tr><td>&quot;c&quot;</td><td>2</td><td>2</td></tr></tbody></table></div>"
            ]
          },
          "metadata": {},
          "execution_count": 10
        }
      ],
      "source": [
        "(df\n",
        " .with_columns(new = pl.when(pl.col('cat') == 'a')\n",
        "                       .then(pl.col('val') + 1)\n",
        "                       .when(pl.col('cat') == 'b')\n",
        "                       .then(pl.col('val') + 10)\n",
        "                       .otherwise(pl.col('val'))\n",
        "              )\n",
        ")"
      ]
    },
    {
      "cell_type": "markdown",
      "metadata": {
        "id": "rGvGjpNYOsw8"
      },
      "source": [
        "### Including literal values\n",
        "\n",
        "Note that\n",
        "* `polars` is actually implemented in Rust.\n",
        "* Literal/constant values need to use `pl.lit`."
      ]
    },
    {
      "cell_type": "code",
      "execution_count": 11,
      "metadata": {
        "id": "8eP5dtJPOsw8",
        "outputId": "0384f2a7-ecd8-4b37-9fc4-ba2bff70f310",
        "colab": {
          "base_uri": "https://localhost:8080/"
        }
      },
      "outputs": [
        {
          "output_type": "execute_result",
          "data": {
            "text/plain": [
              "0"
            ]
          },
          "metadata": {},
          "execution_count": 11
        }
      ],
      "source": [
        "0 # Python integer"
      ]
    },
    {
      "cell_type": "code",
      "execution_count": 12,
      "metadata": {
        "id": "EFi-4U5COsw8",
        "outputId": "c3f8a9df-6af4-4b30-951b-0da91645f640",
        "colab": {
          "base_uri": "https://localhost:8080/",
          "height": 34
        }
      },
      "outputs": [
        {
          "output_type": "execute_result",
          "data": {
            "text/plain": [
              "<Expr ['0'] at 0x7F819E183F40>"
            ],
            "text/html": [
              "0"
            ]
          },
          "metadata": {},
          "execution_count": 12
        }
      ],
      "source": [
        "pl.lit(0) # Gets converted to Rust/Apache Arrow"
      ]
    },
    {
      "cell_type": "code",
      "execution_count": 13,
      "metadata": {
        "id": "Snt7WJkkOsw9",
        "outputId": "c2c8bf8b-9f58-4753-a6aa-4c56758446cc",
        "colab": {
          "base_uri": "https://localhost:8080/",
          "height": 34
        }
      },
      "outputs": [
        {
          "output_type": "execute_result",
          "data": {
            "text/plain": [
              "<Expr ['0.strict_cast(Int8)'] at 0x7F819E183340>"
            ],
            "text/html": [
              "0.strict_cast(Int8)"
            ]
          },
          "metadata": {},
          "execution_count": 13
        }
      ],
      "source": [
        "pl.lit(0, pl.Int8) # Cast to a specific int type"
      ]
    },
    {
      "cell_type": "markdown",
      "metadata": {
        "id": "PVT6dbNhOsw9"
      },
      "source": [
        "#### `case_when` with an optional literal value"
      ]
    },
    {
      "cell_type": "code",
      "execution_count": 14,
      "metadata": {
        "id": "faHa4WQBOsw-",
        "outputId": "65ac28d6-9ce6-4c06-cc2a-8c5a32fc4a79",
        "colab": {
          "base_uri": "https://localhost:8080/",
          "height": 255
        }
      },
      "outputs": [
        {
          "output_type": "execute_result",
          "data": {
            "text/plain": [
              "shape: (5, 3)\n",
              "┌─────┬─────┬─────┐\n",
              "│ cat ┆ val ┆ new │\n",
              "│ --- ┆ --- ┆ --- │\n",
              "│ str ┆ i64 ┆ i64 │\n",
              "╞═════╪═════╪═════╡\n",
              "│ a   ┆ 1   ┆ 2   │\n",
              "│ b   ┆ 1   ┆ 11  │\n",
              "│ b   ┆ 2   ┆ 12  │\n",
              "│ c   ┆ 1   ┆ 0   │\n",
              "│ c   ┆ 2   ┆ 0   │\n",
              "└─────┴─────┴─────┘"
            ],
            "text/html": [
              "<div><style>\n",
              ".dataframe > thead > tr,\n",
              ".dataframe > tbody > tr {\n",
              "  text-align: right;\n",
              "  white-space: pre-wrap;\n",
              "}\n",
              "</style>\n",
              "<small>shape: (5, 3)</small><table border=\"1\" class=\"dataframe\"><thead><tr><th>cat</th><th>val</th><th>new</th></tr><tr><td>str</td><td>i64</td><td>i64</td></tr></thead><tbody><tr><td>&quot;a&quot;</td><td>1</td><td>2</td></tr><tr><td>&quot;b&quot;</td><td>1</td><td>11</td></tr><tr><td>&quot;b&quot;</td><td>2</td><td>12</td></tr><tr><td>&quot;c&quot;</td><td>1</td><td>0</td></tr><tr><td>&quot;c&quot;</td><td>2</td><td>0</td></tr></tbody></table></div>"
            ]
          },
          "metadata": {},
          "execution_count": 14
        }
      ],
      "source": [
        "(df\n",
        " .with_columns(new = pl.when(pl.col('cat') == 'a')\n",
        "                       .then(pl.col('val') + 1)\n",
        "                       .when(pl.col('cat') == 'b')\n",
        "                       .then(pl.col('val') + 10)\n",
        "                       .otherwise(pl.lit(0))\n",
        "              )\n",
        ")"
      ]
    },
    {
      "cell_type": "markdown",
      "metadata": {
        "id": "l2I9waGtOsw-"
      },
      "source": [
        "## <font color=\"red\"> Exercise 6.7.1 </font>\n",
        "\n",
        "Consider the `Nationality` column `Artist` data.  We would like to an *indicator column* for the American nationality, that is make a new column that that contains `1` if the artist is of American decent and `0` otherwise."
      ]
    },
    {
      "cell_type": "code",
      "execution_count": null,
      "metadata": {
        "id": "Yl236HyrOsw-"
      },
      "outputs": [],
      "source": [
        "# Your code here"
      ]
    },
    {
      "cell_type": "markdown",
      "metadata": {
        "id": "jwHBtyKNOsw_"
      },
      "source": [
        "## <font color=\"red\"> Exercise 6.7.2 </font>\n",
        "\n",
        "Consider the `Nationality` column `exhibition` table.  We would like to make a indicator column that reclassifies this column as `\"North American\"`, `\"European\"`, or `\"Other\"`.  Use `case_when` to accomplish this task.\n",
        "\n",
        "**Hint.** Lists of relevant nationalities are provided, consider using `is_in` with these lists in your predicates."
      ]
    },
    {
      "cell_type": "code",
      "execution_count": null,
      "metadata": {
        "id": "k4YlLThVOsw_",
        "outputId": "9389e291-0e70-4d5e-a644-479ae2b29178"
      },
      "outputs": [
        {
          "data": {
            "text/plain": [
              "['Kuwaiti',\n",
              " 'Cameroonian',\n",
              " 'British',\n",
              " 'Namibian',\n",
              " 'Ecuadorian',\n",
              " 'Chilean',\n",
              " 'Finnish',\n",
              " 'German',\n",
              " 'Polish',\n",
              " 'Algerian',\n",
              " 'Japanese',\n",
              " 'Azerbaijani',\n",
              " 'Swedish',\n",
              " 'Mexican',\n",
              " 'American',\n",
              " 'Korean',\n",
              " 'Icelandic',\n",
              " 'Scottish',\n",
              " 'Brazilian',\n",
              " 'Italian',\n",
              " 'Luxembourgish',\n",
              " 'Tunisian',\n",
              " 'Thai',\n",
              " 'Afghan',\n",
              " 'Australian',\n",
              " 'Costa Rican',\n",
              " 'Nationality unknown',\n",
              " 'Cypriot',\n",
              " 'Iranian',\n",
              " 'Chinese',\n",
              " 'Colombian',\n",
              " 'Egyptian',\n",
              " 'Catalan',\n",
              " 'Bangladeshi',\n",
              " None,\n",
              " 'Haitian',\n",
              " 'Canadian Inuit',\n",
              " 'Beninese',\n",
              " 'Cuban',\n",
              " 'Persian',\n",
              " 'French',\n",
              " 'Uruguayan',\n",
              " 'Paraguayan',\n",
              " 'Salvadoran',\n",
              " 'Ethiopian',\n",
              " 'Czechoslovakian',\n",
              " 'Ukrainian',\n",
              " 'Tanzanian',\n",
              " 'Bosnian',\n",
              " 'Portuguese',\n",
              " 'Bahamian',\n",
              " 'Congolese',\n",
              " 'Ivorian',\n",
              " 'Croatian',\n",
              " 'Nicaraguan',\n",
              " 'Bolivian',\n",
              " 'Ghanaian',\n",
              " 'Cambodian',\n",
              " 'Danish',\n",
              " 'Burkinabe',\n",
              " 'Yugoslav',\n",
              " 'Greek',\n",
              " 'Norwegian',\n",
              " 'Senegalese',\n",
              " 'Emirati',\n",
              " 'Romanian',\n",
              " 'Belgian',\n",
              " 'Spanish',\n",
              " 'Malian',\n",
              " 'Estonian',\n",
              " 'Taiwanese',\n",
              " 'Singaporean',\n",
              " 'Kenyan',\n",
              " 'Native American',\n",
              " 'Canadian',\n",
              " 'Ugandan',\n",
              " 'Zimbabwean',\n",
              " 'Argentine',\n",
              " 'Sudanese',\n",
              " 'Malaysian',\n",
              " 'Indian',\n",
              " 'Turkish',\n",
              " 'Filipino',\n",
              " 'Czech',\n",
              " 'Nigerian',\n",
              " 'Slovenian',\n",
              " 'Sierra Leonean',\n",
              " 'Lebanese',\n",
              " 'Vietnamese',\n",
              " 'Sahrawi',\n",
              " 'Coptic',\n",
              " 'Lithuanian',\n",
              " 'Guatemalan',\n",
              " 'New Zealander',\n",
              " 'Welsh',\n",
              " 'Palestinian',\n",
              " 'Slovak',\n",
              " 'Irish',\n",
              " 'Austrian',\n",
              " 'Russian',\n",
              " 'South African',\n",
              " 'Venezuelan',\n",
              " 'Moroccan',\n",
              " 'Pakistani',\n",
              " 'Bulgarian',\n",
              " 'Panamanian',\n",
              " 'Swiss',\n",
              " 'Serbian',\n",
              " 'Macedonian',\n",
              " 'Hungarian',\n",
              " 'Peruvian',\n",
              " 'Dutch',\n",
              " 'Albanian',\n",
              " 'Puerto Rican',\n",
              " 'Latvian',\n",
              " 'Kyrgyzstani',\n",
              " 'Guyanese',\n",
              " 'Georgian',\n",
              " 'Israeli']"
            ]
          },
          "execution_count": 14,
          "metadata": {},
          "output_type": "execute_result"
        }
      ],
      "source": [
        "all_countries = artists['Nationality'].unique().to_list()\n",
        "all_countries # This was used to make the following lists"
      ]
    },
    {
      "cell_type": "code",
      "execution_count": null,
      "metadata": {
        "id": "WfKjk1C5OsxA"
      },
      "outputs": [],
      "source": [
        "north_american = ['American',\n",
        "                  'Canadian',\n",
        "                  'Moroccan and American',\n",
        "                  'Canadian Inuit',\n",
        "                  'Native American',\n",
        "                  'American and Mexican']\n",
        "\n",
        "european = ['French', 'Dutch', 'Italian', 'Spanish', 'German',\n",
        "            'Austrian', 'Finnish', 'Swedish', 'Swiss',\n",
        "            'British', 'Czech', 'Belgian', 'Russian-Lithuanian',\n",
        "            'English', 'Greek', 'Norwegian', 'Latvian', 'Polish',\n",
        "            'Milanese', 'Danish', 'Netherlandish', 'Flemish',\n",
        "            'Scottish', 'Hungarian', 'Yugoslav', 'Catalan',\n",
        "            'Florentine', 'Venetian', 'Irish', 'Icelandic',\n",
        "            'Slovene', 'Bosnian', 'Croatian', 'Luxembourgish']"
      ]
    },
    {
      "cell_type": "code",
      "execution_count": null,
      "metadata": {
        "id": "WSmAWTzVOsxA"
      },
      "outputs": [],
      "source": [
        "# Your code here"
      ]
    }
  ],
  "metadata": {
    "kernelspec": {
      "display_name": "Python 3 (ipykernel)",
      "language": "python",
      "name": "python3"
    },
    "language_info": {
      "codemirror_mode": {
        "name": "ipython",
        "version": 3
      },
      "file_extension": ".py",
      "mimetype": "text/x-python",
      "name": "python",
      "nbconvert_exporter": "python",
      "pygments_lexer": "ipython3",
      "version": "3.9.12"
    },
    "varInspector": {
      "cols": {
        "lenName": 16,
        "lenType": 16,
        "lenVar": 40
      },
      "kernels_config": {
        "python": {
          "delete_cmd_postfix": "",
          "delete_cmd_prefix": "del ",
          "library": "var_list.py",
          "varRefreshCmd": "print(var_dic_list())"
        },
        "r": {
          "delete_cmd_postfix": ") ",
          "delete_cmd_prefix": "rm(",
          "library": "var_list.r",
          "varRefreshCmd": "cat(var_dic_list()) "
        }
      },
      "types_to_exclude": [
        "module",
        "function",
        "builtin_function_or_method",
        "instance",
        "_Feature"
      ],
      "window_display": false
    },
    "colab": {
      "provenance": [],
      "include_colab_link": true
    }
  },
  "nbformat": 4,
  "nbformat_minor": 0
}